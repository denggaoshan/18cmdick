{
 "cells": [
  {
   "cell_type": "code",
   "execution_count": 1,
   "metadata": {},
   "outputs": [],
   "source": [
    "#coding=utf-8\n",
    "from pyltp import SentenceSplitter\n",
    "from pyltp import Segmentor\n",
    "from pyltp import Postagger\n",
    "from pyltp import SementicRoleLabeller\n",
    "from pyltp import NamedEntityRecognizer\n",
    "from pyltp import Parser\n",
    "import os\n",
    "import re\n",
    "modelPath='C:\\Users\\CJ\\ltp_data'"
   ]
  },
  {
   "cell_type": "code",
   "execution_count": 2,
   "metadata": {},
   "outputs": [],
   "source": [
    "#分词\n",
    "def segmentor(sentence='你好，你觉得这个例子从哪里来的？'):\n",
    "    segmentor = Segmentor()  # 初始化实例\n",
    "    model=\"cws.model\"\n",
    "    segmentor.load(os.path.join(modelPath, model))  # 加载模型\n",
    "    words = segmentor.segment(sentence)  # 分词\n",
    "    #默认可以这样输出\n",
    "    print '\\t'.join(words)\n",
    "    # 可以转换成List 输出\n",
    "    words_list = list(words)\n",
    "    segmentor.release()  # 释放模型\n",
    "    return words_list\n",
    "\n",
    "def posttagger(words):\n",
    "    postagger = Postagger() # 初始化实例\n",
    "    model = \"pos.model\"\n",
    "    postagger.load(os.path.join(modelPath, model))  # 加载模型\n",
    "    postags = postagger.postag(words)  # 词性标注\n",
    "    #for word,tag in zip(words,postags):\n",
    "     #   print word+'/'+tag\n",
    "    postagger.release()  # 释放模型\n",
    "    return postags\n",
    "\n",
    "#分句，也就是将一片文本分割为独立的句子\n",
    "def sentence_splitter(sentence='你好，你觉得这个例子从哪里来的？'):\n",
    "    sents = SentenceSplitter.split(sentence)  # 分句\n",
    "    clean_s = [x for x in list(sents) if x != \"\"]\n",
    "    return clean_s\n",
    "\n",
    "#命名实体识别\n",
    "def ner(words, postags):\n",
    "    recognizer = NamedEntityRecognizer() # 初始化实例\n",
    "    model = \"ner.model\"\n",
    "    recognizer.load(os.path.join(modelPath, model))  # 加载模型\n",
    "    netags = recognizer.recognize(words, postags)  # 命名实体识别\n",
    "    for word, ntag in zip(words, netags):\n",
    "        print word + '/' + ntag,\n",
    "    recognizer.release()  # 释放模型\n",
    "    return netags\n",
    "\n",
    "#依存语义分析\n",
    "def parse(words, postags):\n",
    "    parser = Parser() # 初始化实例\n",
    "    model = \"parser.model\"\n",
    "    parser.load(os.path.join(modelPath, model))  # 加载模型\n",
    "    arcs = parser.parse(words, postags)  # 句法分析\n",
    "    print \"\\t\".join(\"%d:%s\" % (arc.head, arc.relation) for arc in arcs)\n",
    "    parser.release()  # 释放模型\n",
    "    return arcs\n",
    "\n",
    "#角色标注\n",
    "def role_label(words, postags, netags, arcs):\n",
    "    labeller = SementicRoleLabeller() # 初始化实例\n",
    "    model = \"srl\"\n",
    "    labeller.load(os.path.join(modelPath, model))  # 加载模型\n",
    "    roles = labeller.label(words, postags, netags, arcs)  # 语义角色标注\n",
    "    for role in roles:\n",
    "        print role.index, \"\".join(\n",
    "            [\"%s:(%d,%d)\" % (arg.name, arg.range.start, arg.range.end) for arg in role.arguments])\n",
    "    labeller.release()  # 释放模型"
   ]
  },
  {
   "cell_type": "code",
   "execution_count": null,
   "metadata": {},
   "outputs": [],
   "source": []
  },
  {
   "cell_type": "code",
   "execution_count": 75,
   "metadata": {},
   "outputs": [],
   "source": [
    "def get_org(sentence):\n",
    "    words = segmentor(sentence)\n",
    "    tags = posttagger(words)\n",
    "    netags = ner(words, tags)\n",
    "    entities = set()\n",
    "    str_e =\"\"\n",
    "    for word,ntag in zip(words, netags):\n",
    "        if ntag == 'B-Ni':\n",
    "            str_e = word\n",
    "        elif ntag == 'I-Ni':\n",
    "            str_e += word\n",
    "        elif ntag == 'E-Ni':\n",
    "            str_e += word\n",
    "            entities.add(str_e)\n",
    "        elif ntag == 'S-Ni':\n",
    "            str_e = word\n",
    "            entities.add(str_e)\n",
    "        else:\n",
    "            str_e = \"\"\n",
    "    return entities"
   ]
  },
  {
   "cell_type": "code",
   "execution_count": 130,
   "metadata": {},
   "outputs": [],
   "source": [
    "#去除句子内的标点和非中文\n",
    "def get_chinese(line):\n",
    "    result = re.findall(ur\"([\\u4e00-\\u9fa5]|[0-9])\", line.decode('utf-8'))\n",
    "    un = \"\".join(result)\n",
    "    try:\n",
    "        return unicode.encode(un)\n",
    "    except:\n",
    "        return ''\n",
    "def get_chs(lines):\n",
    "    result = []\n",
    "    for l in lines:\n",
    "        chl = get_chinese(l)\n",
    "        if chl != '':\n",
    "            result.append(chl)\n",
    "    return result\n",
    "def fp(it):\n",
    "    for i in it:\n",
    "        print i"
   ]
  },
  {
   "cell_type": "code",
   "execution_count": 134,
   "metadata": {},
   "outputs": [],
   "source": [
    "sentence=\"中石化山东济南平阴第五加油站 车用汽油92（ⅴ） 18 平阴县 平阴县洪范农机加油站 普通柴油0 18 平阴县 平阴县洪范农机加油站 车用汽油92（ⅴ） 19 平阴县 中石化山东济南平阴第3加油站 普通柴油0 19 平阴县 中石化山东济南平阴第3加油站 车用汽油95（ⅴ） 20 平阴县 中石化山东济南平阴第4加油站\"\n",
    " "
   ]
  },
  {
   "cell_type": "code",
   "execution_count": 135,
   "metadata": {},
   "outputs": [
    {
     "name": "stdout",
     "output_type": "stream",
     "text": [
      "中石化山东济南平阴第五加油站车用汽油9218平阴县平阴县洪范农机加油站普通柴油018平阴县平阴县洪范农机加油站车用汽油9219平阴县中石化山东济南平阴第3加油站普通柴油019平阴县中石化山东济南平阴第3加油站车用汽油9520平阴县中石化山东济南平阴第4加油站\n",
      "中石化\t山东\t济南\t平阴\t第五\t加油站\t车\t用\t汽油\t9218\t平阴县\t平阴县\t洪范\t农机\t加油站\t普通\t柴油\t018\t平阴县\t平阴县\t洪范\t农机\t加油站\t车\t用\t汽油\t9219\t平\t阴县\t中石化\t山东\t济南\t平阴\t第3\t加油站\t普通\t柴油\t019平阴县\t中石化\t山东\t济南\t平阴\t第3\t加油站\t车\t用\t汽油\t9520\t平阴县\t中石化\t山东\t济南\t平阴\t第4\t加油站\n",
      "中石化/O 山东/B-Ns 济南/I-Ns 平阴/E-Ns 第五/O 加油站/O 车/O 用/O 汽油/O 9218/O 平阴县/B-Ns 平阴县/E-Ns 洪范/O 农机/O 加油站/O 普通/O 柴油/O 018/O 平阴县/B-Ns 平阴县/E-Ns 洪范/O 农机/O 加油站/O 车/O 用/O 汽油/O 9219/O 平/O 阴县/B-Ns 中石化/I-Ns 山东/I-Ns 济南/I-Ns 平阴/E-Ns 第3/O 加油站/O 普通/O 柴油/O 019平阴县/B-Ns 中石化/I-Ns 山东/I-Ns 济南/I-Ns 平阴/E-Ns 第3/O 加油站/O 车/O 用/O 汽油/O 9520/O 平阴县/S-Ns 中石化/O 山东/B-Ns 济南/I-Ns 平阴/E-Ns 第4/O 加油站/O\n"
     ]
    }
   ],
   "source": [
    "se = get_entity_P(sentence)"
   ]
  },
  {
   "cell_type": "code",
   "execution_count": 133,
   "metadata": {},
   "outputs": [],
   "source": []
  },
  {
   "cell_type": "code",
   "execution_count": 131,
   "metadata": {},
   "outputs": [
    {
     "name": "stdout",
     "output_type": "stream",
     "text": [
      "中石化山东济南平阴第5加油站车用汽油9218平阴县平阴县洪范农机加油站普通柴油018平阴县平阴县洪范农机加油站车用汽油9219平阴县中石化山东济南平阴第3加油站普通柴油019平阴县中石化山东济南平阴第3加油站车用汽油9520平阴县中石化山东济南平阴第4加油站\n"
     ]
    }
   ],
   "source": [
    "sts = sentence_splitter(sentence)\n",
    "chs = get_chs(sts)\n",
    "for c in chs:\n",
    "    print c"
   ]
  },
  {
   "cell_type": "code",
   "execution_count": 115,
   "metadata": {},
   "outputs": [],
   "source": [
    "def get_entity_P(sentence):\n",
    "    sts = sentence_splitter(sentence)\n",
    "    chs = get_chs(sts)\n",
    "    se = set()\n",
    "    for i in chs:\n",
    "        ch_sentence = get_chinese(i)\n",
    "        print ch_sentence\n",
    "        entities = get_org(ch_sentence)\n",
    "        se = se | entities    \n",
    "    return se"
   ]
  },
  {
   "cell_type": "code",
   "execution_count": 116,
   "metadata": {},
   "outputs": [],
   "source": [
    "sente = \"原标题：淄博市食品药品监督管理局组织抽检发现3批次不合格样品 14日，记者从淄博市食品药品监督管理局了解到，该局通过组织抽检粮食加工品、饮料、肉制品等3类食品139批次样品，共发现3批次不合格样品。 不合格产品情况为：淄博市五老缘山泉水厂生产的天然山泉水，亚硝酸盐(以NaNO2计)项目超标；淄博中农农业科技股份有限公司生产的桶装天然弱碱性饮用水，耗氧量(以O2计)项目超标；淄博资泉水业有限公司生产的桶装饮用水，铜绿假单胞菌项目超标。\""
   ]
  },
  {
   "cell_type": "code",
   "execution_count": 117,
   "metadata": {},
   "outputs": [
    {
     "name": "stdout",
     "output_type": "stream",
     "text": [
      "原标题淄博市食品药品监督管理局组织抽检发现批次不合格样品日记者从淄博市食品药品监督管理局了解到该局通过组织抽检粮食加工品饮料肉制品等类食品批次样品共发现批次不合格样品\n",
      "原\t标题\t淄博市\t食品\t药品\t监督\t管理局\t组织\t抽检\t发现\t批次\t不\t合格\t样品\t日记者\t从\t淄博市\t食品\t药品\t监督\t管理局\t了解\t到\t该局\t通过\t组织\t抽检\t粮食\t加工品\t饮料\t肉制品\t等\t类\t食品\t批次\t样品\t共\t发现\t批次\t不\t合格\t样品\n",
      "原/O 标题/O 淄博市/B-Ni 食品/I-Ni 药品/I-Ni 监督/I-Ni 管理局/E-Ni 组织/O 抽检/O 发现/O 批次/O 不/O 合格/O 样品/O 日记者/O 从/O 淄博市/B-Ni 食品/I-Ni 药品/I-Ni 监督/I-Ni 管理局/E-Ni 了解/O 到/O 该局/O 通过/O 组织/O 抽检/O 粮食/O 加工品/O 饮料/O 肉制品/O 等/O 类/O 食品/O 批次/O 样品/O 共/O 发现/O 批次/O 不/O 合格/O 样品/O 不合格产品情况为淄博市五老缘山泉水厂生产的天然山泉水亚硝酸盐以计项目超标\n",
      "不\t合格\t产品\t情况\t为\t淄博市\t五\t老\t缘山\t泉水\t厂\t生产\t的\t天然\t山泉水\t亚硝酸盐\t以\t计\t项目\t超标\n",
      "不/O 合格/O 产品/O 情况/O 为/O 淄博市/S-Ns 五/O 老/O 缘山/B-Ni 泉水/I-Ni 厂/E-Ni 生产/O 的/O 天然/O 山泉水/O 亚硝酸盐/O 以/O 计/O 项目/O 超标/O 淄博中农农业科技股份有限公司生产的桶装天然弱碱性饮用水耗氧量以计项目超标\n",
      "淄博\t中农\t农业\t科技\t股份\t有限公司\t生产\t的\t桶装\t天然\t弱碱性\t饮用水\t耗氧量\t以\t计\t项目\t超标\n",
      "淄博/B-Ni 中农/I-Ni 农业/I-Ni 科技/I-Ni 股份/I-Ni 有限公司/E-Ni 生产/O 的/O 桶装/O 天然/O 弱碱性/O 饮用水/O 耗氧量/O 以/O 计/O 项目/O 超标/O 淄博资泉水业有限公司生产的桶装饮用水铜绿假单胞菌项目超标\n",
      "淄博\t资泉\t水业\t有限公司\t生产\t的\t桶装\t饮用水\t铜\t绿\t假\t单胞菌\t项目\t超标\n",
      "淄博/B-Ni 资泉/I-Ni 水业/I-Ni 有限公司/E-Ni 生产/O 的/O 桶装/O 饮用水/O 铜/O 绿/O 假/O 单胞菌/O 项目/O 超标/O\n"
     ]
    }
   ],
   "source": [
    "se = get_entity_P(sente)"
   ]
  },
  {
   "cell_type": "code",
   "execution_count": 119,
   "metadata": {},
   "outputs": [
    {
     "name": "stdout",
     "output_type": "stream",
     "text": [
      "淄博资泉水业有限公司\n",
      "缘山泉水厂\n",
      "淄博市食品药品监督管理局\n",
      "淄博中农农业科技股份有限公司\n"
     ]
    }
   ],
   "source": [
    "fp(se)"
   ]
  },
  {
   "cell_type": "code",
   "execution_count": 113,
   "metadata": {},
   "outputs": [
    {
     "name": "stdout",
     "output_type": "stream",
     "text": [
      "中国人寿保险股份有限公司湖南省分公司和讯网消息月日湖南保监局发布湘保监罚号文中国人寿保险股份有限公司湖南分公司电销中心在销售过程中的录音存在欺骗投保人或被保险人隐瞒保险合同重要内容的行为\n",
      "中国\t人寿\t保险\t股份\t有限公司\t湖南省\t分公司\t和\t讯网\t消息\t月日\t湖南\t保监局\t发布\t湘保\t监罚号\t文\t中国\t人寿\t保险\t股份\t有限公司\t湖南\t分公司\t电销\t中心\t在\t销售\t过程\t中\t的\t录音\t存在\t欺骗\t投保人\t或\t被保险人\t隐瞒\t保险\t合同\t重要\t内容\t的\t行为\n",
      "中国/B-Ni 人寿/I-Ni 保险/I-Ni 股份/I-Ni 有限公司/I-Ni 湖南省/I-Ni 分公司/E-Ni 和/O 讯网/O 消息/O 月日/O 湖南/S-Ns 保监局/O 发布/O 湘保/B-Ni 监罚号/I-Ni 文/I-Ni 中国/I-Ni 人寿/I-Ni 保险/I-Ni 股份/I-Ni 有限公司/I-Ni 湖南/I-Ni 分公司/I-Ni 电销/I-Ni 中心/E-Ni 在/O 销售/O 过程/O 中/O 的/O 录音/O 存在/O 欺骗/O 投保人/O 或/O 被保险人/O 隐瞒/O 保险/O 合同/O 重要/O 内容/O 的/O 行为/O 湖南保监局拟中国人寿保险股份有限公司湖南省分公司消息月日湖南保监局发布湘保监罚号文中国人寿保险股份有限公司湖南分公司电销中心在销售过程中的录音存在欺骗投保人或被保险人隐瞒保险合同重要内容的行为\n",
      "湖南\t保监局\t拟\t中国\t人寿\t保险\t股份\t有限公司\t湖南省\t分公司\t消息\t月日\t湖南\t保监局\t发布\t湘保\t监罚号\t文\t中国\t人寿\t保险\t股份\t有限公司\t湖南\t分公司\t电销\t中心\t在\t销售\t过程\t中\t的\t录音\t存在\t欺骗\t投保人\t或\t被保险人\t隐瞒\t保险\t合同\t重要\t内容\t的\t行为\n",
      "湖南/S-Ns 保监局/O 拟/O 中国/B-Ni 人寿/I-Ni 保险/I-Ni 股份/I-Ni 有限公司/I-Ni 湖南省/I-Ni 分公司/I-Ni 消息/E-Ni 月日/O 湖南/S-Ns 保监局/O 发布/O 湘保/B-Ni 监罚号/I-Ni 文/I-Ni 中国/I-Ni 人寿/I-Ni 保险/I-Ni 股份/I-Ni 有限公司/I-Ni 湖南/I-Ni 分公司/I-Ni 电销/I-Ni 中心/E-Ni 在/O 销售/O 过程/O 中/O 的/O 录音/O 存在/O 欺骗/O 投保人/O 或/O 被保险人/O 隐瞒/O 保险/O 合同/O 重要/O 内容/O 的/O 行为/O 湖南保监局拟对中国人寿湖南分公司罚款万元并依法送达湖南保监局行政处罚告知书\n",
      "湖南\t保监局\t拟\t对\t中国\t人寿\t湖南\t分公司\t罚款\t万\t元\t并\t依法\t送达\t湖南\t保监局\t行政\t处罚\t告知书\n",
      "湖南/S-Ns 保监局/O 拟/O 对/O 中国/S-Ns 人寿/O 湖南/S-Ns 分公司/O 罚款/O 万/O 元/O 并/O 依法/O 送达/O 湖南/S-Ns 保监局/O 行政/O 处罚/O 告知书/O 湖南保监局表示经查年你公司在电话销售过程中等份保单的销售录音存在欺骗投保人或被保险人隐瞒保险合同重要内容的行为\n",
      "湖南\t保监局\t表示\t经\t查年\t你\t公司\t在\t电话\t销售\t过程\t中等\t份\t保单\t的\t销售\t录音\t存在\t欺骗\t投保人\t或\t被保险人\t隐瞒\t保险\t合同\t重要\t内容\t的\t行为\n",
      "湖南/S-Ns 保监局/O 表示/O 经/O 查年/O 你/O 公司/O 在/O 电话/O 销售/O 过程/O 中等/O 份/O 保单/O 的/O 销售/O 录音/O 存在/O 欺骗/O 投保人/O 或/O 被保险人/O 隐瞒/O 保险/O 合同/O 重要/O 内容/O 的/O 行为/O 证明上述事实的主要证据有现场检查事实确认书份保单的相关电话销售录音及录音取证记录相关保单抄件或复印件相关保险产品条款产品停售文件增值服务相关文件等\n",
      "证明\t上述\t事实\t的\t主要\t证据\t有\t现场\t检查\t事实\t确认\t书份\t保单\t的\t相关\t电话\t销售\t录音\t及\t录音\t取证\t记录\t相关\t保单\t抄件\t或\t复印件\t相关\t保险\t产品\t条款\t产品\t停\t售\t文件\t增值\t服务\t相关\t文件\t等\n",
      "证明/O 上述/O 事实/O 的/O 主要/O 证据/O 有/O 现场/O 检查/O 事实/O 确认/O 书份/O 保单/O 的/O 相关/O 电话/O 销售/O 录音/O 及/O 录音/O 取证/O 记录/O 相关/O 保单/O 抄件/O 或/O 复印件/O 相关/O 保险/O 产品/O 条款/O 产品/O 停/O 售/O 文件/O 增值/O 服务/O 相关/O 文件/O 等/O 湖南保监局认为中国人寿湖南省分公司上述行为违反了中华人民共和国保险法年修正第一百一十六条规定\n",
      "湖南\t保监局\t认为\t中国\t人寿\t湖南省\t分公司\t上述\t行为\t违反\t了\t中华人民共和国\t保险法\t年\t修正\t第一百一十六\t条\t规定\n",
      "湖南/S-Ns 保监局/O 认为/O 中国/B-Ni 人寿/I-Ni 湖南省/I-Ni 分公司/E-Ni 上述/O 行为/O 违反/O 了/O 中华人民共和国/S-Ns 保险法/O 年/O 修正/O 第一百一十六/O 条/O 规定/O 依据中华人民共和国保险法年修正第一百六十一条规定拟对其罚款万元并依法送达了湖南保监局行政处罚告知书\n",
      "依据\t中华人民共和国\t保险法\t年\t修正\t第一百六十一\t条\t规定\t拟\t对\t其\t罚款\t万\t元\t并\t依法\t送达\t了\t湖南\t保监局\t行政\t处罚\t告知书\n",
      "依据/O 中华人民共和国/S-Ns 保险法/O 年/O 修正/O 第一百六十一/O 条/O 规定/O 拟/O 对/O 其/O 罚款/O 万/O 元/O 并/O 依法/O 送达/O 了/O 湖南/S-Ns 保监局/O 行政/O 处罚/O 告知书/O 同时指出如不服本处罚决定可在接到本处罚决定之日起日内依法向中国保监会申请行政复议或在个月内向有管辖权的法院提起行政诉讼\n",
      "同时\t指出\t如\t不\t服本\t处罚\t决定\t可\t在\t接到\t本\t处罚\t决定\t之\t日\t起\t日\t内\t依法\t向\t中国\t保监会\t申请\t行政\t复议\t或\t在\t个\t月\t内\t向\t有\t管辖权\t的\t法院\t提起\t行政诉讼\n",
      "同时/O 指出/O 如/O 不/O 服本/O 处罚/O 决定/O 可/O 在/O 接到/O 本/O 处罚/O 决定/O 之/O 日/O 起/O 日/O 内/O 依法/O 向/O 中国/S-Ns 保监会/O 申请/O 行政/O 复议/O 或/O 在/O 个/O 月/O 内/O 向/O 有/O 管辖权/O 的/O 法院/O 提起/O 行政诉讼/O 行政复议或行政诉讼期间行政处罚不停止执行\n",
      "行政\t复议\t或\t行政诉讼\t期间\t行政\t处罚\t不\t停止\t执行\n",
      "行政/O 复议/O 或/O 行政诉讼/O 期间/O 行政/O 处罚/O 不/O 停止/O 执行/O\n"
     ]
    }
   ],
   "source": [
    "###分句\n",
    "sts = sentence_splitter(sentence)\n",
    "chs = get_chs(sts)\n",
    "se = set()\n",
    "for i in chs:\n",
    "    ch_sentence = get_chinese(i)\n",
    "    print ch_sentence\n",
    "    entities = get_org(ch_sentence)\n",
    "    se = se | entities"
   ]
  },
  {
   "cell_type": "code",
   "execution_count": null,
   "metadata": {},
   "outputs": [],
   "source": []
  }
 ],
 "metadata": {
  "kernelspec": {
   "display_name": "Python 2",
   "language": "python",
   "name": "python2"
  },
  "language_info": {
   "codemirror_mode": {
    "name": "ipython",
    "version": 2
   },
   "file_extension": ".py",
   "mimetype": "text/x-python",
   "name": "python",
   "nbconvert_exporter": "python",
   "pygments_lexer": "ipython2",
   "version": "2.7"
  },
  "toc": {
   "nav_menu": {},
   "number_sections": true,
   "sideBar": true,
   "skip_h1_title": false,
   "toc_cell": false,
   "toc_position": {},
   "toc_section_display": "block",
   "toc_window_display": false
  }
 },
 "nbformat": 4,
 "nbformat_minor": 2
}
