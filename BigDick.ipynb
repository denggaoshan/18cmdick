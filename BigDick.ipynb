{
 "cells": [
  {
   "cell_type": "markdown",
   "metadata": {
    "toc": true
   },
   "source": [
    "<h1>Table of Contents<span class=\"tocSkip\"></span></h1>\n",
    "<div class=\"toc\" style=\"margin-top: 1em;\"><ul class=\"toc-item\"><li><span><a href=\"#Import\" data-toc-modified-id=\"Import-1\"><span class=\"toc-item-num\">1&nbsp;&nbsp;</span>Import</a></span><ul class=\"toc-item\"><li><span><a href=\"#read-func\" data-toc-modified-id=\"read-func-1.1\"><span class=\"toc-item-num\">1.1&nbsp;&nbsp;</span>read func</a></span></li></ul></li><li><span><a href=\"#Load-Data\" data-toc-modified-id=\"Load-Data-2\"><span class=\"toc-item-num\">2&nbsp;&nbsp;</span>Load Data</a></span></li><li><span><a href=\"#Process-Data\" data-toc-modified-id=\"Process-Data-3\"><span class=\"toc-item-num\">3&nbsp;&nbsp;</span>Process Data</a></span><ul class=\"toc-item\"><li><span><a href=\"#process-func\" data-toc-modified-id=\"process-func-3.1\"><span class=\"toc-item-num\">3.1&nbsp;&nbsp;</span>process func</a></span></li></ul></li><li><span><a href=\"#Submission\" data-toc-modified-id=\"Submission-4\"><span class=\"toc-item-num\">4&nbsp;&nbsp;</span>Submission</a></span><ul class=\"toc-item\"><li><span><a href=\"#sub-func\" data-toc-modified-id=\"sub-func-4.1\"><span class=\"toc-item-num\">4.1&nbsp;&nbsp;</span>sub func</a></span></li></ul></li><li><span><a href=\"#Explore-Data\" data-toc-modified-id=\"Explore-Data-5\"><span class=\"toc-item-num\">5&nbsp;&nbsp;</span>Explore Data</a></span></li></ul></div>"
   ]
  },
  {
   "cell_type": "markdown",
   "metadata": {},
   "source": [
    "# Import"
   ]
  },
  {
   "cell_type": "code",
   "execution_count": 188,
   "metadata": {},
   "outputs": [],
   "source": [
    "#coding=utf-8\n",
    "import pandas as pd\n",
    "import json\n",
    "import codecs\n",
    "import datetime\n",
    "import CJNLP as cjn"
   ]
  },
  {
   "cell_type": "markdown",
   "metadata": {},
   "source": [
    "## read func"
   ]
  },
  {
   "cell_type": "code",
   "execution_count": 141,
   "metadata": {
    "code_folding": []
   },
   "outputs": [],
   "source": [
    "def get_result_dataframe(filename):\n",
    "    result_text = pd.read_json(filename, lines=True, encoding='utf-8')\n",
    "    result_pd = pd.DataFrame()\n",
    "    for i in range(len(result_text)):\n",
    "        tmp_pd = pd.DataFrame.from_records(result_text['entities'][i])\n",
    "        tmp_pd['newsId'] = result_text['newsId'][i]\n",
    "        result_pd = result_pd.append(tmp_pd)    \n",
    "    return result_pd\n",
    "\n",
    "#读取结果文件内容为Dict格式\n",
    "def get_json_list_from(filename='DATA_T_RESULT.txt'):\n",
    "    result = []\n",
    "    f = codecs.open(filename,'r', 'utf-8')\n",
    "    for line in f.readlines():\n",
    "        #print line\n",
    "        rj = json.loads(line)\n",
    "        result.append(rj)\n",
    "    f.close()    \n",
    "    return result"
   ]
  },
  {
   "cell_type": "markdown",
   "metadata": {},
   "source": [
    "# Load Data"
   ]
  },
  {
   "cell_type": "code",
   "execution_count": 6,
   "metadata": {},
   "outputs": [],
   "source": [
    "# load to pandas \n",
    "train_pd = pd.read_json(\"DATA_T.txt\", lines=True, encoding='utf-8')\n",
    "test_pd = pd.read_json(\"DATA_TEST.txt\", lines=True, encoding='utf-8')\n",
    "origin_result_pd = pd.read_json(\"DATA_T_RESULT.txt\", lines=True, encoding='utf-8')\n",
    "result_pd = get_result_dataframe(\"DATA_T_RESULT.txt\")\n",
    "train_pd['type'] = 'Train'\n",
    "test_pd['type'] = 'Test'\n",
    "fulldata = pd.concat([train_pd, test_pd], axis=0)"
   ]
  },
  {
   "cell_type": "code",
   "execution_count": 149,
   "metadata": {
    "scrolled": false
   },
   "outputs": [],
   "source": [
    "# load to json\n",
    "train_json = get_json_list_from(filename='DATA_T.txt')\n",
    "test_json =  get_json_list_from(\"DATA_TEST.txt\")\n",
    "result_json = get_json_list_from()"
   ]
  },
  {
   "cell_type": "code",
   "execution_count": 213,
   "metadata": {},
   "outputs": [
    {
     "name": "stdout",
     "output_type": "stream",
     "text": [
      "1\n"
     ]
    }
   ],
   "source": [
    "ch = []\n",
    "if len(ch) == 0:\n",
    "    print 1"
   ]
  },
  {
   "cell_type": "markdown",
   "metadata": {},
   "source": [
    "# Process Data"
   ]
  },
  {
   "cell_type": "markdown",
   "metadata": {},
   "source": [
    "## process func"
   ]
  },
  {
   "cell_type": "code",
   "execution_count": 202,
   "metadata": {},
   "outputs": [],
   "source": [
    "#生成一条新的实体\n",
    "def create_ent(eventLevel=u\"负向\", name=\"\", digest=\"\", keywords=\"\"):\n",
    "    ent = { \"name\":name, \"digest\": digest, \"keywords\":keywords, \"eventLevel\":eventLevel}\n",
    "    return ent\n",
    "#根据实体集合生成JSON\n",
    "def create_json_byEntitiesSet(entities):\n",
    "    ents = []\n",
    "    for e in entities:\n",
    "        ents.append(create_ent(name=e.decode('utf-8')))\n",
    "    return ents\n",
    "#生成一条新的新闻记录\n",
    "def create_newsRecord(newsId, ent_json):\n",
    "    newsRecord = {\"newsId\":newsId, \"entities\":ent_json}\n",
    "    return newsRecord \n",
    "\n",
    "#得到识别命名实体后的数据 newsId ,entities\n",
    "def get_process_data(data):\n",
    "    result = []\n",
    "    i = 1\n",
    "    for news in data:\n",
    "        print 'process news ', i\n",
    "        i += 1\n",
    "        ent_set = cjn.get_entity_P(unicode.encode(news['body']))\n",
    "        ent_json = create_json_byEntitiesSet(ent_set)\n",
    "        record = create_newsRecord(news['newsId'], ent_json)\n",
    "        result.append(record)\n",
    "    return result"
   ]
  },
  {
   "cell_type": "code",
   "execution_count": null,
   "metadata": {},
   "outputs": [],
   "source": []
  },
  {
   "cell_type": "code",
   "execution_count": 196,
   "metadata": {},
   "outputs": [],
   "source": [
    "pre_data = test_json[:2]\n",
    "process_data = get_process_data(pre_data)"
   ]
  },
  {
   "cell_type": "code",
   "execution_count": 201,
   "metadata": {},
   "outputs": [],
   "source": [
    "save_submission(process_data)"
   ]
  },
  {
   "cell_type": "code",
   "execution_count": 189,
   "metadata": {},
   "outputs": [],
   "source": [
    "#提取命名实体\n",
    "se = cjn.get_entity_P(unicode.encode(test_json[0]['body']))"
   ]
  },
  {
   "cell_type": "markdown",
   "metadata": {},
   "source": [
    "# Submission"
   ]
  },
  {
   "cell_type": "markdown",
   "metadata": {},
   "source": [
    "## sub func"
   ]
  },
  {
   "cell_type": "code",
   "execution_count": 200,
   "metadata": {},
   "outputs": [],
   "source": [
    "\n",
    "def save_submission(results, filename='sub[{0}].txt'.format(datetime.datetime.now().strftime('%m-%d#%H-%M'))):\n",
    "    f = codecs.open(filename, \"w\", \"utf-8\")\n",
    "    for i in range(len(results)):\n",
    "        tr = json.dumps(results[i],ensure_ascii=False, separators=(',',':'))\n",
    "        f.write(tr+\"\\r\\n\")\n",
    "    f.close()"
   ]
  },
  {
   "cell_type": "code",
   "execution_count": 142,
   "metadata": {},
   "outputs": [],
   "source": [
    "test = get_json_list_from('submission1.txt')"
   ]
  },
  {
   "cell_type": "code",
   "execution_count": 133,
   "metadata": {},
   "outputs": [],
   "source": [
    "sub = get_json_list_from()\n",
    "for i in range(len(sub)):\n",
    "    tmp = sub[i]['entities']\n",
    "    for j in tmp:\n",
    "        j['eventLevel'] = u'负向'\n",
    "        j['digest']=u''\n",
    "for i in range(len(sub)):\n",
    "    sub[i]['newsId'] = test_json[i]['newsId']"
   ]
  },
  {
   "cell_type": "code",
   "execution_count": 136,
   "metadata": {},
   "outputs": [
    {
     "name": "stdout",
     "output_type": "stream",
     "text": [
      "1 # 36a16da602af53883bb21f3059abd5809292d7bb <-> 1 # 36a16da602af53883bb21f3059abd5809292d7bb\n",
      "2 # 3d14c54d1f8e766909f18792b6c37098b477e83d <-> 2 # 3d14c54d1f8e766909f18792b6c37098b477e83d\n",
      "3 # 5fe3a97a944211cb2aca3364c11de3adae09b2e2 <-> 3 # 5fe3a97a944211cb2aca3364c11de3adae09b2e2\n",
      "4 # d686885eb3959b67a2a359e1570578df0c30c86e <-> 4 # d686885eb3959b67a2a359e1570578df0c30c86e\n",
      "5 # 705d6be02163afcf9972fb0bde0b52a7f462bb68 <-> 5 # 705d6be02163afcf9972fb0bde0b52a7f462bb68\n",
      "6 # 31b4988c4f3fe4ef13519b32be46d15a71846225 <-> 6 # 31b4988c4f3fe4ef13519b32be46d15a71846225\n",
      "7 # 7d1c144d501a455a24c89cf6f3e3209e69a09922 <-> 7 # 7d1c144d501a455a24c89cf6f3e3209e69a09922\n",
      "8 # 46dd717455d442754642d377d76a6e06ef33dbe8 <-> 8 # 46dd717455d442754642d377d76a6e06ef33dbe8\n",
      "9 # 793c728c634c0df681889a3edefb52b046faa7f4 <-> 9 # 793c728c634c0df681889a3edefb52b046faa7f4\n",
      "10 # 2a01c1f37840edba50d59501a1c2c08b209f3345 <-> 10 # 2a01c1f37840edba50d59501a1c2c08b209f3345\n"
     ]
    }
   ],
   "source": [
    "for i in range(10):\n",
    "    print i+1,'#',test_json[i]['newsId'], '<->',i+1,'#',sub[i]['newsId']"
   ]
  },
  {
   "cell_type": "code",
   "execution_count": 137,
   "metadata": {},
   "outputs": [],
   "source": [
    "save_submission(sub)"
   ]
  },
  {
   "cell_type": "code",
   "execution_count": 43,
   "metadata": {},
   "outputs": [],
   "source": [
    "with open(\"r.json\",'w') as json_file:\n",
    "         json.dump(tjs,json_file,ensure_ascii=False)"
   ]
  },
  {
   "cell_type": "code",
   "execution_count": 34,
   "metadata": {},
   "outputs": [
    {
     "data": {
      "text/plain": [
       "{'entities': [{u'digest': u'\\uff0c\\u5176\\u4e2d\\uff0c\\u540c\\u4ec1\\u70ed\\u6c5e\\u8d2d\\u7269\\u4e2d\\u5fc3\\u4ea7\\u54c1\\u62bd\\u68c0\\u5408\\u683c',\n",
       "   u'eventLevel': u'\\u6b63\\u5411',\n",
       "   u'keywords': u'',\n",
       "   u'name': u'\\u540c\\u4ec1\\u70ed\\u6c5e\\u8d2d\\u7269\\u4e2d\\u5fc3'},\n",
       "  {u'digest': u'\\uff0c\\u5176\\u4e2d\\uff0c\\u6cfd\\u5e93\\u4e07\\u5bb6\\u4e50\\u8d85\\u5e02\\u4ea7\\u54c1\\u62bd\\u68c0\\u5408\\u683c',\n",
       "   u'eventLevel': u'\\u6b63\\u5411',\n",
       "   u'keywords': u'',\n",
       "   u'name': u'\\u6cfd\\u5e93\\u4e07\\u5bb6\\u4e50\\u8d85\\u5e02'},\n",
       "  {u'digest': u'??\\u62bd\\u68c0\\u51fa\\u76842\\u6279\\u6b21\\u4e0d\\u5408\\u7684\\u519c\\u4ea7\\u54c1\\u662f\\uff0c\\u4f5b\\u5c71\\u5e02\\u9ad8\\u660e\\u533a\\u8377\\u57ce\\u82cf\\u7389\\u840d\\u852c\\u83dc\\u6863\\u9500\\u552e\\u7684\\u82b9\\u83dc\\uff0c\\u4e0d\\u5408\\u683c\\u9879\\u76ee\\u4e3a\\u6bd2\\u6b7b\\u8731\\uff0c\\u53e6\\u4e00\\u6279\\u6b21\\u662f\\u9ec4\\u7389\\u534e\\u9500\\u552e\\u7684\\u9cae\\u9c7c\\uff0c\\u4e0d\\u5408\\u683c\\u9879\\u76ee\\u4e3a\\u5b54\\u96c0\\u77f3\\u7eff\\u3002',\n",
       "   u'eventLevel': u'\\u8d1f\\u5411',\n",
       "   u'keywords': u'',\n",
       "   u'name': u'\\u8377\\u57ce\\u82cf\\u7389\\u840d\\u852c\\u83dc\\u6863'},\n",
       "  {u'digest': u'\\uff0c\\u5176\\u4e2d\\uff0c\\u95e8\\u6e90\\u53bf\\u534e\\u4e1c\\u8d2d\\u7269\\u4e2d\\u5fc3\\u6709\\u9650\\u516c\\u53f8\\u4ea7\\u54c1\\u62bd\\u68c0\\u5408\\u683c',\n",
       "   u'eventLevel': u'\\u6b63\\u5411',\n",
       "   u'keywords': u'',\n",
       "   u'name': u'\\u95e8\\u6e90\\u53bf\\u534e\\u4e1c\\u8d2d\\u7269\\u4e2d\\u5fc3\\u6709\\u9650\\u516c\\u53f8'},\n",
       "  {u'digest': u'\\u4e2d\\u56fd\\u8d28\\u91cf\\u65b0\\u95fb\\u7f51\\u8baf 8\\u670825\\u65e5\\uff0c\\u9752\\u6d77\\u7701\\u98df\\u54c1\\u836f\\u54c1\\u76d1\\u7763\\u7ba1\\u7406\\u5c40\\u5b98\\u7f51\\u53d1\\u5e03\\u300a\\u98df\\u54c1\\u5b89\\u5168\\u76d1\\u7763\\u62bd\\u68c0\\u4fe1\\u606f\\u901a\\u544a 2017\\u5e74 \\u7b2c 28 \\u53f7\\u300b\\u3002\\u4fe1\\u606f\\u663e\\u793a\\uff0c\\u8be5\\u5c40\\u8fd1\\u671f\\u5c40\\u627f\\u62c5\\u56fd\\u5bb6\\u98df\\u54c1\\u836f\\u54c1\\u76d1\\u7763\\u7ba1\\u7406\\u603b\\u5c40\\u4e2d\\u592e\\u8f6c\\u79fb\\u5730\\u65b9\\u4efb\\u52a1\\uff0c\\u7ec4\\u7ec7\\u62bd\\u68c0\\u4e8622\\u7c7b\\u98df\\u54c1136\\u6279\\u6b21\\u6837\\u54c1\\u3002\\u5176\\u4e2d\\uff0c\\u62bd\\u68c0\\u6c34\\u679c\\u5236\\u54c15\\u6279\\u6b21\\uff0c\\u5168\\u90e8\\u5408\\u683c\\u3002',\n",
       "   u'eventLevel': u'\\u4e2d\\u6027',\n",
       "   u'keywords': u'',\n",
       "   u'name': u'\\u9752\\u6d77\\u7701\\u98df\\u836f\\u76d1\\u5c40'},\n",
       "  {u'digest': u'\\uff0c\\u5176\\u4e2d\\uff0c\\u9ec4\\u5357\\u4e16\\u7eaa\\u534e\\u8054\\u5546\\u8d38\\u6709\\u9650\\u516c\\u53f8\\u4ea7\\u54c1\\u62bd\\u68c0\\u5408\\u683c',\n",
       "   u'eventLevel': u'\\u6b63\\u5411',\n",
       "   u'keywords': u'',\n",
       "   u'name': u'\\u9ec4\\u5357\\u4e16\\u7eaa\\u534e\\u8054\\u5546\\u8d38\\u6709\\u9650\\u516c\\u53f8'}],\n",
       " 'newsId': u'82ca95bff6cbef092d4da7e8fceb1c38e923c54a'}"
      ]
     },
     "execution_count": 34,
     "metadata": {},
     "output_type": "execute_result"
    }
   ],
   "source": [
    "n = create_newsRecord(origin_result_pd['newsId'][0], origin_result_pd['entities'][0])\n",
    "n"
   ]
  },
  {
   "cell_type": "code",
   "execution_count": 24,
   "metadata": {},
   "outputs": [
    {
     "data": {
      "text/html": [
       "<div>\n",
       "<style>\n",
       "    .dataframe thead tr:only-child th {\n",
       "        text-align: right;\n",
       "    }\n",
       "\n",
       "    .dataframe thead th {\n",
       "        text-align: left;\n",
       "    }\n",
       "\n",
       "    .dataframe tbody tr th {\n",
       "        vertical-align: top;\n",
       "    }\n",
       "</style>\n",
       "<table border=\"1\" class=\"dataframe\">\n",
       "  <thead>\n",
       "    <tr style=\"text-align: right;\">\n",
       "      <th></th>\n",
       "      <th>entities</th>\n",
       "      <th>newsId</th>\n",
       "    </tr>\n",
       "  </thead>\n",
       "  <tbody>\n",
       "    <tr>\n",
       "      <th>0</th>\n",
       "      <td>[{u'eventLevel': u'正向', u'keywords': u'', u'na...</td>\n",
       "      <td>82ca95bff6cbef092d4da7e8fceb1c38e923c54a</td>\n",
       "    </tr>\n",
       "    <tr>\n",
       "      <th>1</th>\n",
       "      <td>[{u'eventLevel': u'负向', u'keywords': u'', u'na...</td>\n",
       "      <td>60268320291c75350c6b1f05a807f67111109d92</td>\n",
       "    </tr>\n",
       "  </tbody>\n",
       "</table>\n",
       "</div>"
      ],
      "text/plain": [
       "                                            entities  \\\n",
       "0  [{u'eventLevel': u'正向', u'keywords': u'', u'na...   \n",
       "1  [{u'eventLevel': u'负向', u'keywords': u'', u'na...   \n",
       "\n",
       "                                     newsId  \n",
       "0  82ca95bff6cbef092d4da7e8fceb1c38e923c54a  \n",
       "1  60268320291c75350c6b1f05a807f67111109d92  "
      ]
     },
     "execution_count": 24,
     "metadata": {},
     "output_type": "execute_result"
    }
   ],
   "source": [
    "origin_result_pd[:2]"
   ]
  },
  {
   "cell_type": "code",
   "execution_count": null,
   "metadata": {},
   "outputs": [],
   "source": [
    "{\n",
    "    \"newsId\": \"训练集中舆情标识ID\",\n",
    "    \"entities\": [\n",
    "    {\n",
    "        \"name\": \"机构实体1\",\n",
    "        \"digest\": \"文摘\",\n",
    "        \"keywords\": \"关键词，多个词用 | 隔开\",\n",
    "        \"eventLevel\": \"正向\"\n",
    "    },\n",
    "    {\n",
    "        \"name\": \"机构实体2\",\n",
    "        \"digest\": \"文摘\",\n",
    "        \"keywords\": \"关键词，多个词用 | 隔开\",\n",
    "        \"eventLevel\": \"负向\"\n",
    "    }]\n",
    "}\n"
   ]
  },
  {
   "cell_type": "code",
   "execution_count": 20,
   "metadata": {},
   "outputs": [
    {
     "data": {
      "text/plain": [
       "{'entities': [{'digest': '\\xe6\\x96\\x87\\xe6\\x91\\x98',\n",
       "   'eventLevel': '\\xe6\\xad\\xa3\\xe5\\x90\\x91',\n",
       "   'keywords': '\\xe5\\x85\\xb3\\xe9\\x94\\xae\\xe8\\xaf\\x8d\\xef\\xbc\\x8c\\xe5\\xa4\\x9a\\xe4\\xb8\\xaa\\xe8\\xaf\\x8d\\xe7\\x94\\xa8 | \\xe9\\x9a\\x94\\xe5\\xbc\\x80',\n",
       "   'name': '\\xe6\\x9c\\xba\\xe6\\x9e\\x84\\xe5\\xae\\x9e\\xe4\\xbd\\x931'},\n",
       "  {'digest': '\\xe6\\x96\\x87\\xe6\\x91\\x98',\n",
       "   'eventLevel': '\\xe6\\xad\\xa3\\xe5\\x90\\x91',\n",
       "   'keywords': '\\xe5\\x85\\xb3\\xe9\\x94\\xae\\xe8\\xaf\\x8d\\xef\\xbc\\x8c\\xe5\\xa4\\x9a\\xe4\\xb8\\xaa\\xe8\\xaf\\x8d\\xe7\\x94\\xa8 | \\xe9\\x9a\\x94\\xe5\\xbc\\x80',\n",
       "   'name': '\\xe6\\x9c\\xba\\xe6\\x9e\\x84\\xe5\\xae\\x9e\\xe4\\xbd\\x931'}],\n",
       " 'newsId': '1111'}"
      ]
     },
     "execution_count": 20,
     "metadata": {},
     "output_type": "execute_result"
    }
   ],
   "source": [
    "sub = {}\n",
    "sub['newsId'] = '1111'\n",
    "en1 =     {\n",
    "        \"name\": \"机构实体1\",\n",
    "        \"digest\": \"文摘\",\n",
    "        \"keywords\": \"关键词，多个词用 | 隔开\",\n",
    "        \"eventLevel\": \"正向\"\n",
    "    }\n",
    "ens = [en1, en1]\n",
    "sub['entities'] = ens\n",
    "sub"
   ]
  },
  {
   "cell_type": "code",
   "execution_count": 14,
   "metadata": {},
   "outputs": [
    {
     "name": "stdout",
     "output_type": "stream",
     "text": [
      "<type 'list'>\n",
      "[{\"username\": \"测试\", \"age\": 16}, [2, 3], 1]\n",
      "<type 'str'>\n",
      "[{'username': u'\\u6d4b\\u8bd5', 'age': 16}, [2, 3], 1]\n",
      "<type 'list'>\n"
     ]
    }
   ],
   "source": [
    "test = [{\"username\":\"测试\",\"age\":16},(2,3),1]\n",
    "print type(test)\n",
    "python_to_json = json.dumps(test,ensure_ascii=False)\n",
    "print python_to_json\n",
    "print type(python_to_json)\n",
    "\n",
    "# 将json对象转换成python对象\n",
    "json_to_python = json.loads(python_to_json)\n",
    "print json_to_python\n",
    "print type(json_to_python)"
   ]
  },
  {
   "cell_type": "markdown",
   "metadata": {
    "code_folding": []
   },
   "source": [
    "# Explore Data"
   ]
  },
  {
   "cell_type": "code",
   "execution_count": 18,
   "metadata": {},
   "outputs": [
    {
     "data": {
      "text/plain": [
       "负向    6831\n",
       "正向    5051\n",
       "中性    2857\n",
       "Name: eventLevel, dtype: int64"
      ]
     },
     "execution_count": 18,
     "metadata": {},
     "output_type": "execute_result"
    }
   ],
   "source": [
    "result_pd['eventLevel'].value_counts()"
   ]
  },
  {
   "cell_type": "code",
   "execution_count": 20,
   "metadata": {},
   "outputs": [
    {
     "data": {
      "text/html": [
       "<div>\n",
       "<style>\n",
       "    .dataframe thead tr:only-child th {\n",
       "        text-align: right;\n",
       "    }\n",
       "\n",
       "    .dataframe thead th {\n",
       "        text-align: left;\n",
       "    }\n",
       "\n",
       "    .dataframe tbody tr th {\n",
       "        vertical-align: top;\n",
       "    }\n",
       "</style>\n",
       "<table border=\"1\" class=\"dataframe\">\n",
       "  <thead>\n",
       "    <tr style=\"text-align: right;\">\n",
       "      <th></th>\n",
       "      <th>digest</th>\n",
       "      <th>eventLevel</th>\n",
       "      <th>keywords</th>\n",
       "      <th>name</th>\n",
       "      <th>newsId</th>\n",
       "    </tr>\n",
       "  </thead>\n",
       "  <tbody>\n",
       "    <tr>\n",
       "      <th>0</th>\n",
       "      <td>，其中，厦门飘安医疗器械有限公司产品抽检不合格</td>\n",
       "      <td>负向</td>\n",
       "      <td></td>\n",
       "      <td>厦门飘安医疗器械有限公司</td>\n",
       "      <td>60268320291c75350c6b1f05a807f67111109d92</td>\n",
       "    </tr>\n",
       "    <tr>\n",
       "      <th>1</th>\n",
       "      <td>，其中，尤溪县医院产品抽检不合格</td>\n",
       "      <td>负向</td>\n",
       "      <td></td>\n",
       "      <td>尤溪县医院</td>\n",
       "      <td>60268320291c75350c6b1f05a807f67111109d92</td>\n",
       "    </tr>\n",
       "    <tr>\n",
       "      <th>2</th>\n",
       "      <td>中国质量新闻网讯 2017年9月26日，福建省食品药品监管局官网发布《福建省医疗器械质量公告...</td>\n",
       "      <td>中性</td>\n",
       "      <td></td>\n",
       "      <td>福建省食药监局</td>\n",
       "      <td>60268320291c75350c6b1f05a807f67111109d92</td>\n",
       "    </tr>\n",
       "  </tbody>\n",
       "</table>\n",
       "</div>"
      ],
      "text/plain": [
       "                                              digest eventLevel keywords  \\\n",
       "0                            ，其中，厦门飘安医疗器械有限公司产品抽检不合格         负向            \n",
       "1                                   ，其中，尤溪县医院产品抽检不合格         负向            \n",
       "2  中国质量新闻网讯 2017年9月26日，福建省食品药品监管局官网发布《福建省医疗器械质量公告...         中性            \n",
       "\n",
       "           name                                    newsId  \n",
       "0  厦门飘安医疗器械有限公司  60268320291c75350c6b1f05a807f67111109d92  \n",
       "1         尤溪县医院  60268320291c75350c6b1f05a807f67111109d92  \n",
       "2       福建省食药监局  60268320291c75350c6b1f05a807f67111109d92  "
      ]
     },
     "execution_count": 20,
     "metadata": {},
     "output_type": "execute_result"
    }
   ],
   "source": [
    "result_pd[result_pd['newsId']=='60268320291c75350c6b1f05a807f67111109d92']"
   ]
  },
  {
   "cell_type": "code",
   "execution_count": 55,
   "metadata": {
    "scrolled": true
   },
   "outputs": [],
   "source": [
    "t = result_pd[['name', 'eventLevel']].drop_duplicates()\n",
    "t.to_csv('result.csv', index=False)\n",
    "t.to_excel('result.xls', index=False)"
   ]
  },
  {
   "cell_type": "code",
   "execution_count": 44,
   "metadata": {
    "scrolled": true
   },
   "outputs": [
    {
     "data": {
      "text/plain": [
       "1     9410\n",
       "2      866\n",
       "3      392\n",
       "4      151\n",
       "5       76\n",
       "6       31\n",
       "7       29\n",
       "8       17\n",
       "9       13\n",
       "13       6\n",
       "10       6\n",
       "14       5\n",
       "11       5\n",
       "12       4\n",
       "16       4\n",
       "25       3\n",
       "18       3\n",
       "17       2\n",
       "27       2\n",
       "15       2\n",
       "30       2\n",
       "19       1\n",
       "20       1\n",
       "29       1\n",
       "22       1\n",
       "23       1\n",
       "Name: COUNT, dtype: int64"
      ]
     },
     "execution_count": 44,
     "metadata": {},
     "output_type": "execute_result"
    }
   ],
   "source": [
    "namet = result_pd['name'].value_counts()\n",
    "accept_count = pd.DataFrame({'org':namet.index, 'COUNT':namet.values})\n",
    "accept_count['COUNT'].value_counts()"
   ]
  },
  {
   "cell_type": "code",
   "execution_count": 21,
   "metadata": {},
   "outputs": [
    {
     "data": {
      "text/html": [
       "<div>\n",
       "<style>\n",
       "    .dataframe thead tr:only-child th {\n",
       "        text-align: right;\n",
       "    }\n",
       "\n",
       "    .dataframe thead th {\n",
       "        text-align: left;\n",
       "    }\n",
       "\n",
       "    .dataframe tbody tr th {\n",
       "        vertical-align: top;\n",
       "    }\n",
       "</style>\n",
       "<table border=\"1\" class=\"dataframe\">\n",
       "  <thead>\n",
       "    <tr style=\"text-align: right;\">\n",
       "      <th></th>\n",
       "      <th>COUNT</th>\n",
       "      <th>newsId</th>\n",
       "    </tr>\n",
       "  </thead>\n",
       "  <tbody>\n",
       "    <tr>\n",
       "      <th>0</th>\n",
       "      <td>150</td>\n",
       "      <td>e33f54cf90e1a8e8fc5f361a29d1006f13fbdccd</td>\n",
       "    </tr>\n",
       "    <tr>\n",
       "      <th>1</th>\n",
       "      <td>127</td>\n",
       "      <td>ff4c00f192d98958c413b2b8e6b35ffdfdd850a5</td>\n",
       "    </tr>\n",
       "    <tr>\n",
       "      <th>2</th>\n",
       "      <td>108</td>\n",
       "      <td>d13389159f5e0afe6bc7411926f43dd768ede596</td>\n",
       "    </tr>\n",
       "    <tr>\n",
       "      <th>3</th>\n",
       "      <td>105</td>\n",
       "      <td>5fa69f25de385ab99ec4230c57c0f224dea5208a</td>\n",
       "    </tr>\n",
       "    <tr>\n",
       "      <th>4</th>\n",
       "      <td>95</td>\n",
       "      <td>f07a5e6b4f15e4ccf9d8e37441a3c9be4db7aa09</td>\n",
       "    </tr>\n",
       "    <tr>\n",
       "      <th>5</th>\n",
       "      <td>90</td>\n",
       "      <td>001fc849b8ae0b906be024bc6b9808c656fe4017</td>\n",
       "    </tr>\n",
       "    <tr>\n",
       "      <th>6</th>\n",
       "      <td>88</td>\n",
       "      <td>51702d2015945fb1da6e16b1433b9b7e87b0841c</td>\n",
       "    </tr>\n",
       "    <tr>\n",
       "      <th>7</th>\n",
       "      <td>87</td>\n",
       "      <td>9975abf902034a3be6b84809a76298d657060af6</td>\n",
       "    </tr>\n",
       "    <tr>\n",
       "      <th>8</th>\n",
       "      <td>85</td>\n",
       "      <td>8a5b7c1701f131fb66f57fde47300aba3c92e152</td>\n",
       "    </tr>\n",
       "    <tr>\n",
       "      <th>9</th>\n",
       "      <td>83</td>\n",
       "      <td>dbb1152d17e56db725718a0d6ae67710cbbf6ad6</td>\n",
       "    </tr>\n",
       "    <tr>\n",
       "      <th>10</th>\n",
       "      <td>82</td>\n",
       "      <td>bce54e59ca24309e473819c4c7d845367ea760cf</td>\n",
       "    </tr>\n",
       "    <tr>\n",
       "      <th>11</th>\n",
       "      <td>76</td>\n",
       "      <td>cb6a54a616c9c75f1ce9bdf6d82bfa91a1d48148</td>\n",
       "    </tr>\n",
       "    <tr>\n",
       "      <th>12</th>\n",
       "      <td>75</td>\n",
       "      <td>aa4a7ffebb1bb92c1c93dd081387c3acde8f8bb0</td>\n",
       "    </tr>\n",
       "    <tr>\n",
       "      <th>13</th>\n",
       "      <td>75</td>\n",
       "      <td>22e56ba5434f9e58af01df7053f2663c06a1e76c</td>\n",
       "    </tr>\n",
       "    <tr>\n",
       "      <th>14</th>\n",
       "      <td>74</td>\n",
       "      <td>def616c6178f909cbeefb7224938ede10a355068</td>\n",
       "    </tr>\n",
       "    <tr>\n",
       "      <th>15</th>\n",
       "      <td>72</td>\n",
       "      <td>95b35ed07eb603dc2c0e9a6e0649546a8b2db0f3</td>\n",
       "    </tr>\n",
       "    <tr>\n",
       "      <th>16</th>\n",
       "      <td>71</td>\n",
       "      <td>bb6c529fe923a2cb75d4d86b87a1bd47cf6d36b3</td>\n",
       "    </tr>\n",
       "    <tr>\n",
       "      <th>17</th>\n",
       "      <td>71</td>\n",
       "      <td>91021cfe3eca5a083bfbf7d0d65cf28aa1783680</td>\n",
       "    </tr>\n",
       "    <tr>\n",
       "      <th>18</th>\n",
       "      <td>71</td>\n",
       "      <td>89851e4f35fa2f57b772cd617916725a120543d6</td>\n",
       "    </tr>\n",
       "    <tr>\n",
       "      <th>19</th>\n",
       "      <td>67</td>\n",
       "      <td>d41348e9499aea0e96c63b5d22c5b3d933b08299</td>\n",
       "    </tr>\n",
       "    <tr>\n",
       "      <th>20</th>\n",
       "      <td>66</td>\n",
       "      <td>9e74baadc5b6fc5ed7c1f79b38dda50bf135100b</td>\n",
       "    </tr>\n",
       "    <tr>\n",
       "      <th>21</th>\n",
       "      <td>66</td>\n",
       "      <td>4aa60672b6d9f9fa56e2cd58dde78372adca42b8</td>\n",
       "    </tr>\n",
       "    <tr>\n",
       "      <th>22</th>\n",
       "      <td>66</td>\n",
       "      <td>ec4bec3937f946557715e287febd91dd1ce31d38</td>\n",
       "    </tr>\n",
       "    <tr>\n",
       "      <th>23</th>\n",
       "      <td>66</td>\n",
       "      <td>e6769415b5bf4bbf84df6d3b21fa1645e641e016</td>\n",
       "    </tr>\n",
       "    <tr>\n",
       "      <th>24</th>\n",
       "      <td>65</td>\n",
       "      <td>def3c11a0cd47f11f31a2c6e87368d0ed75ea39e</td>\n",
       "    </tr>\n",
       "    <tr>\n",
       "      <th>25</th>\n",
       "      <td>65</td>\n",
       "      <td>9243de9d7a33858431e1e1cef0ca63845f1ff47a</td>\n",
       "    </tr>\n",
       "    <tr>\n",
       "      <th>26</th>\n",
       "      <td>64</td>\n",
       "      <td>a7417270921135f1a36283862037379d79a0ccaa</td>\n",
       "    </tr>\n",
       "    <tr>\n",
       "      <th>27</th>\n",
       "      <td>64</td>\n",
       "      <td>c60cf5f3b52d473bbb5628401f46c26f1d639b2d</td>\n",
       "    </tr>\n",
       "    <tr>\n",
       "      <th>28</th>\n",
       "      <td>63</td>\n",
       "      <td>c76a2bc3e55e0f8d5e637d968aa834e6310a6ebe</td>\n",
       "    </tr>\n",
       "    <tr>\n",
       "      <th>29</th>\n",
       "      <td>63</td>\n",
       "      <td>813d1dbdc53c1eee49d4d64c5cca463390bfa692</td>\n",
       "    </tr>\n",
       "    <tr>\n",
       "      <th>...</th>\n",
       "      <td>...</td>\n",
       "      <td>...</td>\n",
       "    </tr>\n",
       "    <tr>\n",
       "      <th>1970</th>\n",
       "      <td>1</td>\n",
       "      <td>ab595bfa90ee6a5b56e1c52788bdcbaa6c531814</td>\n",
       "    </tr>\n",
       "    <tr>\n",
       "      <th>1971</th>\n",
       "      <td>1</td>\n",
       "      <td>ed6c81e0293942e4ad2f102572555ee532c0f666</td>\n",
       "    </tr>\n",
       "    <tr>\n",
       "      <th>1972</th>\n",
       "      <td>1</td>\n",
       "      <td>5bdf3b08c32f4cbc66b570d15c90a270108fbb81</td>\n",
       "    </tr>\n",
       "    <tr>\n",
       "      <th>1973</th>\n",
       "      <td>1</td>\n",
       "      <td>1d532288392d0da24b435cdae007abebe7e63bb5</td>\n",
       "    </tr>\n",
       "    <tr>\n",
       "      <th>1974</th>\n",
       "      <td>1</td>\n",
       "      <td>fd392877d77ca8b708dd74a8a74d37498a49765e</td>\n",
       "    </tr>\n",
       "    <tr>\n",
       "      <th>1975</th>\n",
       "      <td>1</td>\n",
       "      <td>c6b1a97fe014422237c6d4e1ec274dfc5f542334</td>\n",
       "    </tr>\n",
       "    <tr>\n",
       "      <th>1976</th>\n",
       "      <td>1</td>\n",
       "      <td>a714d6aa81f55211235295103038284aea15df3f</td>\n",
       "    </tr>\n",
       "    <tr>\n",
       "      <th>1977</th>\n",
       "      <td>1</td>\n",
       "      <td>3aff1bc3efbf62498ce3ac225c72b80f5af48a78</td>\n",
       "    </tr>\n",
       "    <tr>\n",
       "      <th>1978</th>\n",
       "      <td>1</td>\n",
       "      <td>3ac9924ec5f108a9511c41534a8f4005a4ce665c</td>\n",
       "    </tr>\n",
       "    <tr>\n",
       "      <th>1979</th>\n",
       "      <td>1</td>\n",
       "      <td>cbaff7f4363d1ba54b3302e66aa56f64759a96f7</td>\n",
       "    </tr>\n",
       "    <tr>\n",
       "      <th>1980</th>\n",
       "      <td>1</td>\n",
       "      <td>8dc620b35e155fcfdb44e0535e8a76649d2a412e</td>\n",
       "    </tr>\n",
       "    <tr>\n",
       "      <th>1981</th>\n",
       "      <td>1</td>\n",
       "      <td>949a6979e1477e3ae7c778d38e0fc92e5c9c8269</td>\n",
       "    </tr>\n",
       "    <tr>\n",
       "      <th>1982</th>\n",
       "      <td>1</td>\n",
       "      <td>b9f15a460a77551c923472df6c1247eb6da3a664</td>\n",
       "    </tr>\n",
       "    <tr>\n",
       "      <th>1983</th>\n",
       "      <td>1</td>\n",
       "      <td>dbe0f4a5f961b1caabe4961d6ace684f67bb830b</td>\n",
       "    </tr>\n",
       "    <tr>\n",
       "      <th>1984</th>\n",
       "      <td>1</td>\n",
       "      <td>87811013f553cf5ece252a7f1a4547f499fbe9cd</td>\n",
       "    </tr>\n",
       "    <tr>\n",
       "      <th>1985</th>\n",
       "      <td>1</td>\n",
       "      <td>ee26754ed9b19cad0c3dd3b369154c1fc3f20a51</td>\n",
       "    </tr>\n",
       "    <tr>\n",
       "      <th>1986</th>\n",
       "      <td>1</td>\n",
       "      <td>b394fe8293bd07148fdb286fb39a6da35f64652b</td>\n",
       "    </tr>\n",
       "    <tr>\n",
       "      <th>1987</th>\n",
       "      <td>1</td>\n",
       "      <td>9250c0ffd96b98e94fce612007284fbf2b9f8843</td>\n",
       "    </tr>\n",
       "    <tr>\n",
       "      <th>1988</th>\n",
       "      <td>1</td>\n",
       "      <td>e666eb6ea8777d374130d6aa81c7b98ebc5fdcf9</td>\n",
       "    </tr>\n",
       "    <tr>\n",
       "      <th>1989</th>\n",
       "      <td>1</td>\n",
       "      <td>ca5c6a22f86776a439133f1601bce9eaa416f960</td>\n",
       "    </tr>\n",
       "    <tr>\n",
       "      <th>1990</th>\n",
       "      <td>1</td>\n",
       "      <td>8adc15d8d489fb6fb0bb22ee86846101af76b068</td>\n",
       "    </tr>\n",
       "    <tr>\n",
       "      <th>1991</th>\n",
       "      <td>1</td>\n",
       "      <td>a7a3d1fa322738c1ecd242a50eb94f338b0d7262</td>\n",
       "    </tr>\n",
       "    <tr>\n",
       "      <th>1992</th>\n",
       "      <td>1</td>\n",
       "      <td>9de75a62621e7a6685bb4cf5299bdc41771dff91</td>\n",
       "    </tr>\n",
       "    <tr>\n",
       "      <th>1993</th>\n",
       "      <td>1</td>\n",
       "      <td>fc40ff4c134003796f5ee0fca3e740d12b8ed1f0</td>\n",
       "    </tr>\n",
       "    <tr>\n",
       "      <th>1994</th>\n",
       "      <td>1</td>\n",
       "      <td>b67ed00321987daa56f305b6ee0e1a3b7768cc2e</td>\n",
       "    </tr>\n",
       "    <tr>\n",
       "      <th>1995</th>\n",
       "      <td>1</td>\n",
       "      <td>287cee03190a6397521840f7df0d589eb87802a1</td>\n",
       "    </tr>\n",
       "    <tr>\n",
       "      <th>1996</th>\n",
       "      <td>1</td>\n",
       "      <td>51ccc013e4c08fc65fb21a16f2629e7b0ba27d4b</td>\n",
       "    </tr>\n",
       "    <tr>\n",
       "      <th>1997</th>\n",
       "      <td>1</td>\n",
       "      <td>d7596e5a7f69c006236cfcc1b478150855a6c654</td>\n",
       "    </tr>\n",
       "    <tr>\n",
       "      <th>1998</th>\n",
       "      <td>1</td>\n",
       "      <td>a95e0476c3598abacf6f554c4e5131b36399f78e</td>\n",
       "    </tr>\n",
       "    <tr>\n",
       "      <th>1999</th>\n",
       "      <td>1</td>\n",
       "      <td>3a8c18e85f3759684e0e9632ba25e192b7ed9ae7</td>\n",
       "    </tr>\n",
       "  </tbody>\n",
       "</table>\n",
       "<p>2000 rows × 2 columns</p>\n",
       "</div>"
      ],
      "text/plain": [
       "      COUNT                                    newsId\n",
       "0       150  e33f54cf90e1a8e8fc5f361a29d1006f13fbdccd\n",
       "1       127  ff4c00f192d98958c413b2b8e6b35ffdfdd850a5\n",
       "2       108  d13389159f5e0afe6bc7411926f43dd768ede596\n",
       "3       105  5fa69f25de385ab99ec4230c57c0f224dea5208a\n",
       "4        95  f07a5e6b4f15e4ccf9d8e37441a3c9be4db7aa09\n",
       "5        90  001fc849b8ae0b906be024bc6b9808c656fe4017\n",
       "6        88  51702d2015945fb1da6e16b1433b9b7e87b0841c\n",
       "7        87  9975abf902034a3be6b84809a76298d657060af6\n",
       "8        85  8a5b7c1701f131fb66f57fde47300aba3c92e152\n",
       "9        83  dbb1152d17e56db725718a0d6ae67710cbbf6ad6\n",
       "10       82  bce54e59ca24309e473819c4c7d845367ea760cf\n",
       "11       76  cb6a54a616c9c75f1ce9bdf6d82bfa91a1d48148\n",
       "12       75  aa4a7ffebb1bb92c1c93dd081387c3acde8f8bb0\n",
       "13       75  22e56ba5434f9e58af01df7053f2663c06a1e76c\n",
       "14       74  def616c6178f909cbeefb7224938ede10a355068\n",
       "15       72  95b35ed07eb603dc2c0e9a6e0649546a8b2db0f3\n",
       "16       71  bb6c529fe923a2cb75d4d86b87a1bd47cf6d36b3\n",
       "17       71  91021cfe3eca5a083bfbf7d0d65cf28aa1783680\n",
       "18       71  89851e4f35fa2f57b772cd617916725a120543d6\n",
       "19       67  d41348e9499aea0e96c63b5d22c5b3d933b08299\n",
       "20       66  9e74baadc5b6fc5ed7c1f79b38dda50bf135100b\n",
       "21       66  4aa60672b6d9f9fa56e2cd58dde78372adca42b8\n",
       "22       66  ec4bec3937f946557715e287febd91dd1ce31d38\n",
       "23       66  e6769415b5bf4bbf84df6d3b21fa1645e641e016\n",
       "24       65  def3c11a0cd47f11f31a2c6e87368d0ed75ea39e\n",
       "25       65  9243de9d7a33858431e1e1cef0ca63845f1ff47a\n",
       "26       64  a7417270921135f1a36283862037379d79a0ccaa\n",
       "27       64  c60cf5f3b52d473bbb5628401f46c26f1d639b2d\n",
       "28       63  c76a2bc3e55e0f8d5e637d968aa834e6310a6ebe\n",
       "29       63  813d1dbdc53c1eee49d4d64c5cca463390bfa692\n",
       "...     ...                                       ...\n",
       "1970      1  ab595bfa90ee6a5b56e1c52788bdcbaa6c531814\n",
       "1971      1  ed6c81e0293942e4ad2f102572555ee532c0f666\n",
       "1972      1  5bdf3b08c32f4cbc66b570d15c90a270108fbb81\n",
       "1973      1  1d532288392d0da24b435cdae007abebe7e63bb5\n",
       "1974      1  fd392877d77ca8b708dd74a8a74d37498a49765e\n",
       "1975      1  c6b1a97fe014422237c6d4e1ec274dfc5f542334\n",
       "1976      1  a714d6aa81f55211235295103038284aea15df3f\n",
       "1977      1  3aff1bc3efbf62498ce3ac225c72b80f5af48a78\n",
       "1978      1  3ac9924ec5f108a9511c41534a8f4005a4ce665c\n",
       "1979      1  cbaff7f4363d1ba54b3302e66aa56f64759a96f7\n",
       "1980      1  8dc620b35e155fcfdb44e0535e8a76649d2a412e\n",
       "1981      1  949a6979e1477e3ae7c778d38e0fc92e5c9c8269\n",
       "1982      1  b9f15a460a77551c923472df6c1247eb6da3a664\n",
       "1983      1  dbe0f4a5f961b1caabe4961d6ace684f67bb830b\n",
       "1984      1  87811013f553cf5ece252a7f1a4547f499fbe9cd\n",
       "1985      1  ee26754ed9b19cad0c3dd3b369154c1fc3f20a51\n",
       "1986      1  b394fe8293bd07148fdb286fb39a6da35f64652b\n",
       "1987      1  9250c0ffd96b98e94fce612007284fbf2b9f8843\n",
       "1988      1  e666eb6ea8777d374130d6aa81c7b98ebc5fdcf9\n",
       "1989      1  ca5c6a22f86776a439133f1601bce9eaa416f960\n",
       "1990      1  8adc15d8d489fb6fb0bb22ee86846101af76b068\n",
       "1991      1  a7a3d1fa322738c1ecd242a50eb94f338b0d7262\n",
       "1992      1  9de75a62621e7a6685bb4cf5299bdc41771dff91\n",
       "1993      1  fc40ff4c134003796f5ee0fca3e740d12b8ed1f0\n",
       "1994      1  b67ed00321987daa56f305b6ee0e1a3b7768cc2e\n",
       "1995      1  287cee03190a6397521840f7df0d589eb87802a1\n",
       "1996      1  51ccc013e4c08fc65fb21a16f2629e7b0ba27d4b\n",
       "1997      1  d7596e5a7f69c006236cfcc1b478150855a6c654\n",
       "1998      1  a95e0476c3598abacf6f554c4e5131b36399f78e\n",
       "1999      1  3a8c18e85f3759684e0e9632ba25e192b7ed9ae7\n",
       "\n",
       "[2000 rows x 2 columns]"
      ]
     },
     "execution_count": 21,
     "metadata": {},
     "output_type": "execute_result"
    }
   ],
   "source": [
    "t = result_pd['newsId'].value_counts()\n",
    "accept_count = pd.DataFrame({'newsId':t.index, 'COUNT':t.values})\n",
    "accept_count"
   ]
  },
  {
   "cell_type": "code",
   "execution_count": 170,
   "metadata": {},
   "outputs": [
    {
     "data": {
      "text/html": [
       "<div>\n",
       "<style>\n",
       "    .dataframe thead tr:only-child th {\n",
       "        text-align: right;\n",
       "    }\n",
       "\n",
       "    .dataframe thead th {\n",
       "        text-align: left;\n",
       "    }\n",
       "\n",
       "    .dataframe tbody tr th {\n",
       "        vertical-align: top;\n",
       "    }\n",
       "</style>\n",
       "<table border=\"1\" class=\"dataframe\">\n",
       "  <thead>\n",
       "    <tr style=\"text-align: right;\">\n",
       "      <th></th>\n",
       "      <th>digest</th>\n",
       "      <th>eventLevel</th>\n",
       "      <th>keywords</th>\n",
       "      <th>name</th>\n",
       "      <th>newsId</th>\n",
       "    </tr>\n",
       "  </thead>\n",
       "  <tbody>\n",
       "    <tr>\n",
       "      <th>0</th>\n",
       "      <td>，其中，同仁热汞购物中心产品抽检合格</td>\n",
       "      <td>正向</td>\n",
       "      <td></td>\n",
       "      <td>同仁热汞购物中心</td>\n",
       "      <td>82ca95bff6cbef092d4da7e8fceb1c38e923c54a</td>\n",
       "    </tr>\n",
       "    <tr>\n",
       "      <th>1</th>\n",
       "      <td>，其中，泽库万家乐超市产品抽检合格</td>\n",
       "      <td>正向</td>\n",
       "      <td></td>\n",
       "      <td>泽库万家乐超市</td>\n",
       "      <td>82ca95bff6cbef092d4da7e8fceb1c38e923c54a</td>\n",
       "    </tr>\n",
       "    <tr>\n",
       "      <th>2</th>\n",
       "      <td>??抽检出的2批次不合的农产品是，佛山市高明区荷城苏玉萍蔬菜档销售的芹菜，不合格项目为毒死蜱...</td>\n",
       "      <td>负向</td>\n",
       "      <td></td>\n",
       "      <td>荷城苏玉萍蔬菜档</td>\n",
       "      <td>82ca95bff6cbef092d4da7e8fceb1c38e923c54a</td>\n",
       "    </tr>\n",
       "    <tr>\n",
       "      <th>3</th>\n",
       "      <td>，其中，门源县华东购物中心有限公司产品抽检合格</td>\n",
       "      <td>正向</td>\n",
       "      <td></td>\n",
       "      <td>门源县华东购物中心有限公司</td>\n",
       "      <td>82ca95bff6cbef092d4da7e8fceb1c38e923c54a</td>\n",
       "    </tr>\n",
       "    <tr>\n",
       "      <th>4</th>\n",
       "      <td>中国质量新闻网讯 8月25日，青海省食品药品监督管理局官网发布《食品安全监督抽检信息通告 2...</td>\n",
       "      <td>中性</td>\n",
       "      <td></td>\n",
       "      <td>青海省食药监局</td>\n",
       "      <td>82ca95bff6cbef092d4da7e8fceb1c38e923c54a</td>\n",
       "    </tr>\n",
       "    <tr>\n",
       "      <th>5</th>\n",
       "      <td>，其中，黄南世纪华联商贸有限公司产品抽检合格</td>\n",
       "      <td>正向</td>\n",
       "      <td></td>\n",
       "      <td>黄南世纪华联商贸有限公司</td>\n",
       "      <td>82ca95bff6cbef092d4da7e8fceb1c38e923c54a</td>\n",
       "    </tr>\n",
       "  </tbody>\n",
       "</table>\n",
       "</div>"
      ],
      "text/plain": [
       "                                              digest eventLevel keywords  \\\n",
       "0                                 ，其中，同仁热汞购物中心产品抽检合格         正向            \n",
       "1                                  ，其中，泽库万家乐超市产品抽检合格         正向            \n",
       "2  ??抽检出的2批次不合的农产品是，佛山市高明区荷城苏玉萍蔬菜档销售的芹菜，不合格项目为毒死蜱...         负向            \n",
       "3                            ，其中，门源县华东购物中心有限公司产品抽检合格         正向            \n",
       "4  中国质量新闻网讯 8月25日，青海省食品药品监督管理局官网发布《食品安全监督抽检信息通告 2...         中性            \n",
       "5                             ，其中，黄南世纪华联商贸有限公司产品抽检合格         正向            \n",
       "\n",
       "            name                                    newsId  \n",
       "0       同仁热汞购物中心  82ca95bff6cbef092d4da7e8fceb1c38e923c54a  \n",
       "1        泽库万家乐超市  82ca95bff6cbef092d4da7e8fceb1c38e923c54a  \n",
       "2       荷城苏玉萍蔬菜档  82ca95bff6cbef092d4da7e8fceb1c38e923c54a  \n",
       "3  门源县华东购物中心有限公司  82ca95bff6cbef092d4da7e8fceb1c38e923c54a  \n",
       "4        青海省食药监局  82ca95bff6cbef092d4da7e8fceb1c38e923c54a  \n",
       "5   黄南世纪华联商贸有限公司  82ca95bff6cbef092d4da7e8fceb1c38e923c54a  "
      ]
     },
     "execution_count": 170,
     "metadata": {},
     "output_type": "execute_result"
    }
   ],
   "source": [
    "acc_pd"
   ]
  },
  {
   "cell_type": "code",
   "execution_count": null,
   "metadata": {},
   "outputs": [],
   "source": [
    "def translate()"
   ]
  },
  {
   "cell_type": "code",
   "execution_count": 149,
   "metadata": {},
   "outputs": [],
   "source": [
    "pd1 = pd.DataFrame.from_records(result_text['entities'][0])"
   ]
  },
  {
   "cell_type": "code",
   "execution_count": 150,
   "metadata": {},
   "outputs": [],
   "source": [
    "pd2 = pd.DataFrame.from_records(result_text['entities'][1])"
   ]
  },
  {
   "cell_type": "code",
   "execution_count": 154,
   "metadata": {},
   "outputs": [],
   "source": [
    "pd3 = pd.concat([pd1, pd2], axis=0,)"
   ]
  },
  {
   "cell_type": "code",
   "execution_count": 156,
   "metadata": {},
   "outputs": [
    {
     "data": {
      "text/html": [
       "<div>\n",
       "<style>\n",
       "    .dataframe thead tr:only-child th {\n",
       "        text-align: right;\n",
       "    }\n",
       "\n",
       "    .dataframe thead th {\n",
       "        text-align: left;\n",
       "    }\n",
       "\n",
       "    .dataframe tbody tr th {\n",
       "        vertical-align: top;\n",
       "    }\n",
       "</style>\n",
       "<table border=\"1\" class=\"dataframe\">\n",
       "  <thead>\n",
       "    <tr style=\"text-align: right;\">\n",
       "      <th></th>\n",
       "      <th>digest</th>\n",
       "      <th>eventLevel</th>\n",
       "      <th>keywords</th>\n",
       "      <th>name</th>\n",
       "    </tr>\n",
       "  </thead>\n",
       "  <tbody>\n",
       "    <tr>\n",
       "      <th>0</th>\n",
       "      <td>，其中，同仁热汞购物中心产品抽检合格</td>\n",
       "      <td>正向</td>\n",
       "      <td></td>\n",
       "      <td>同仁热汞购物中心</td>\n",
       "    </tr>\n",
       "    <tr>\n",
       "      <th>1</th>\n",
       "      <td>，其中，泽库万家乐超市产品抽检合格</td>\n",
       "      <td>正向</td>\n",
       "      <td></td>\n",
       "      <td>泽库万家乐超市</td>\n",
       "    </tr>\n",
       "    <tr>\n",
       "      <th>2</th>\n",
       "      <td>??抽检出的2批次不合的农产品是，佛山市高明区荷城苏玉萍蔬菜档销售的芹菜，不合格项目为毒死蜱...</td>\n",
       "      <td>负向</td>\n",
       "      <td></td>\n",
       "      <td>荷城苏玉萍蔬菜档</td>\n",
       "    </tr>\n",
       "    <tr>\n",
       "      <th>3</th>\n",
       "      <td>，其中，门源县华东购物中心有限公司产品抽检合格</td>\n",
       "      <td>正向</td>\n",
       "      <td></td>\n",
       "      <td>门源县华东购物中心有限公司</td>\n",
       "    </tr>\n",
       "    <tr>\n",
       "      <th>4</th>\n",
       "      <td>中国质量新闻网讯 8月25日，青海省食品药品监督管理局官网发布《食品安全监督抽检信息通告 2...</td>\n",
       "      <td>中性</td>\n",
       "      <td></td>\n",
       "      <td>青海省食药监局</td>\n",
       "    </tr>\n",
       "    <tr>\n",
       "      <th>5</th>\n",
       "      <td>，其中，黄南世纪华联商贸有限公司产品抽检合格</td>\n",
       "      <td>正向</td>\n",
       "      <td></td>\n",
       "      <td>黄南世纪华联商贸有限公司</td>\n",
       "    </tr>\n",
       "    <tr>\n",
       "      <th>0</th>\n",
       "      <td>，其中，厦门飘安医疗器械有限公司产品抽检不合格</td>\n",
       "      <td>负向</td>\n",
       "      <td></td>\n",
       "      <td>厦门飘安医疗器械有限公司</td>\n",
       "    </tr>\n",
       "    <tr>\n",
       "      <th>1</th>\n",
       "      <td>，其中，尤溪县医院产品抽检不合格</td>\n",
       "      <td>负向</td>\n",
       "      <td></td>\n",
       "      <td>尤溪县医院</td>\n",
       "    </tr>\n",
       "    <tr>\n",
       "      <th>2</th>\n",
       "      <td>中国质量新闻网讯 2017年9月26日，福建省食品药品监管局官网发布《福建省医疗器械质量公告...</td>\n",
       "      <td>中性</td>\n",
       "      <td></td>\n",
       "      <td>福建省食药监局</td>\n",
       "    </tr>\n",
       "  </tbody>\n",
       "</table>\n",
       "</div>"
      ],
      "text/plain": [
       "                                              digest eventLevel keywords  \\\n",
       "0                                 ，其中，同仁热汞购物中心产品抽检合格         正向            \n",
       "1                                  ，其中，泽库万家乐超市产品抽检合格         正向            \n",
       "2  ??抽检出的2批次不合的农产品是，佛山市高明区荷城苏玉萍蔬菜档销售的芹菜，不合格项目为毒死蜱...         负向            \n",
       "3                            ，其中，门源县华东购物中心有限公司产品抽检合格         正向            \n",
       "4  中国质量新闻网讯 8月25日，青海省食品药品监督管理局官网发布《食品安全监督抽检信息通告 2...         中性            \n",
       "5                             ，其中，黄南世纪华联商贸有限公司产品抽检合格         正向            \n",
       "0                            ，其中，厦门飘安医疗器械有限公司产品抽检不合格         负向            \n",
       "1                                   ，其中，尤溪县医院产品抽检不合格         负向            \n",
       "2  中国质量新闻网讯 2017年9月26日，福建省食品药品监管局官网发布《福建省医疗器械质量公告...         中性            \n",
       "\n",
       "            name  \n",
       "0       同仁热汞购物中心  \n",
       "1        泽库万家乐超市  \n",
       "2       荷城苏玉萍蔬菜档  \n",
       "3  门源县华东购物中心有限公司  \n",
       "4        青海省食药监局  \n",
       "5   黄南世纪华联商贸有限公司  \n",
       "0   厦门飘安医疗器械有限公司  \n",
       "1          尤溪县医院  \n",
       "2        福建省食药监局  "
      ]
     },
     "execution_count": 156,
     "metadata": {},
     "output_type": "execute_result"
    }
   ],
   "source": [
    "pd1.append(pd2)"
   ]
  },
  {
   "cell_type": "code",
   "execution_count": 155,
   "metadata": {},
   "outputs": [
    {
     "data": {
      "text/html": [
       "<div>\n",
       "<style>\n",
       "    .dataframe thead tr:only-child th {\n",
       "        text-align: right;\n",
       "    }\n",
       "\n",
       "    .dataframe thead th {\n",
       "        text-align: left;\n",
       "    }\n",
       "\n",
       "    .dataframe tbody tr th {\n",
       "        vertical-align: top;\n",
       "    }\n",
       "</style>\n",
       "<table border=\"1\" class=\"dataframe\">\n",
       "  <thead>\n",
       "    <tr style=\"text-align: right;\">\n",
       "      <th></th>\n",
       "      <th>digest</th>\n",
       "      <th>eventLevel</th>\n",
       "      <th>keywords</th>\n",
       "      <th>name</th>\n",
       "    </tr>\n",
       "  </thead>\n",
       "  <tbody>\n",
       "    <tr>\n",
       "      <th>0</th>\n",
       "      <td>，其中，同仁热汞购物中心产品抽检合格</td>\n",
       "      <td>正向</td>\n",
       "      <td></td>\n",
       "      <td>同仁热汞购物中心</td>\n",
       "    </tr>\n",
       "    <tr>\n",
       "      <th>1</th>\n",
       "      <td>，其中，泽库万家乐超市产品抽检合格</td>\n",
       "      <td>正向</td>\n",
       "      <td></td>\n",
       "      <td>泽库万家乐超市</td>\n",
       "    </tr>\n",
       "    <tr>\n",
       "      <th>2</th>\n",
       "      <td>??抽检出的2批次不合的农产品是，佛山市高明区荷城苏玉萍蔬菜档销售的芹菜，不合格项目为毒死蜱...</td>\n",
       "      <td>负向</td>\n",
       "      <td></td>\n",
       "      <td>荷城苏玉萍蔬菜档</td>\n",
       "    </tr>\n",
       "    <tr>\n",
       "      <th>3</th>\n",
       "      <td>，其中，门源县华东购物中心有限公司产品抽检合格</td>\n",
       "      <td>正向</td>\n",
       "      <td></td>\n",
       "      <td>门源县华东购物中心有限公司</td>\n",
       "    </tr>\n",
       "    <tr>\n",
       "      <th>4</th>\n",
       "      <td>中国质量新闻网讯 8月25日，青海省食品药品监督管理局官网发布《食品安全监督抽检信息通告 2...</td>\n",
       "      <td>中性</td>\n",
       "      <td></td>\n",
       "      <td>青海省食药监局</td>\n",
       "    </tr>\n",
       "    <tr>\n",
       "      <th>5</th>\n",
       "      <td>，其中，黄南世纪华联商贸有限公司产品抽检合格</td>\n",
       "      <td>正向</td>\n",
       "      <td></td>\n",
       "      <td>黄南世纪华联商贸有限公司</td>\n",
       "    </tr>\n",
       "    <tr>\n",
       "      <th>0</th>\n",
       "      <td>，其中，厦门飘安医疗器械有限公司产品抽检不合格</td>\n",
       "      <td>负向</td>\n",
       "      <td></td>\n",
       "      <td>厦门飘安医疗器械有限公司</td>\n",
       "    </tr>\n",
       "    <tr>\n",
       "      <th>1</th>\n",
       "      <td>，其中，尤溪县医院产品抽检不合格</td>\n",
       "      <td>负向</td>\n",
       "      <td></td>\n",
       "      <td>尤溪县医院</td>\n",
       "    </tr>\n",
       "    <tr>\n",
       "      <th>2</th>\n",
       "      <td>中国质量新闻网讯 2017年9月26日，福建省食品药品监管局官网发布《福建省医疗器械质量公告...</td>\n",
       "      <td>中性</td>\n",
       "      <td></td>\n",
       "      <td>福建省食药监局</td>\n",
       "    </tr>\n",
       "  </tbody>\n",
       "</table>\n",
       "</div>"
      ],
      "text/plain": [
       "                                              digest eventLevel keywords  \\\n",
       "0                                 ，其中，同仁热汞购物中心产品抽检合格         正向            \n",
       "1                                  ，其中，泽库万家乐超市产品抽检合格         正向            \n",
       "2  ??抽检出的2批次不合的农产品是，佛山市高明区荷城苏玉萍蔬菜档销售的芹菜，不合格项目为毒死蜱...         负向            \n",
       "3                            ，其中，门源县华东购物中心有限公司产品抽检合格         正向            \n",
       "4  中国质量新闻网讯 8月25日，青海省食品药品监督管理局官网发布《食品安全监督抽检信息通告 2...         中性            \n",
       "5                             ，其中，黄南世纪华联商贸有限公司产品抽检合格         正向            \n",
       "0                            ，其中，厦门飘安医疗器械有限公司产品抽检不合格         负向            \n",
       "1                                   ，其中，尤溪县医院产品抽检不合格         负向            \n",
       "2  中国质量新闻网讯 2017年9月26日，福建省食品药品监管局官网发布《福建省医疗器械质量公告...         中性            \n",
       "\n",
       "            name  \n",
       "0       同仁热汞购物中心  \n",
       "1        泽库万家乐超市  \n",
       "2       荷城苏玉萍蔬菜档  \n",
       "3  门源县华东购物中心有限公司  \n",
       "4        青海省食药监局  \n",
       "5   黄南世纪华联商贸有限公司  \n",
       "0   厦门飘安医疗器械有限公司  \n",
       "1          尤溪县医院  \n",
       "2        福建省食药监局  "
      ]
     },
     "execution_count": 155,
     "metadata": {},
     "output_type": "execute_result"
    }
   ],
   "source": [
    "pd3"
   ]
  },
  {
   "cell_type": "code",
   "execution_count": 75,
   "metadata": {},
   "outputs": [],
   "source": [
    "result_string = open(\"DATA_T_RESULT.txt\").read()\n",
    "result_dumps = json.dumps(result_string)\n",
    "result_json = json.loads(result_dumps)"
   ]
  },
  {
   "cell_type": "code",
   "execution_count": 106,
   "metadata": {},
   "outputs": [
    {
     "ename": "ValueError",
     "evalue": "Extra data: line 2 column 1 - line 2001 column 1 (char 1386 - 3912677)",
     "output_type": "error",
     "traceback": [
      "\u001b[1;31m---------------------------------------------------------------------------\u001b[0m",
      "\u001b[1;31mValueError\u001b[0m                                Traceback (most recent call last)",
      "\u001b[1;32m<ipython-input-106-5bc0fd5d25ff>\u001b[0m in \u001b[0;36m<module>\u001b[1;34m()\u001b[0m\n\u001b[1;32m----> 1\u001b[1;33m \u001b[0mstring_json\u001b[0m \u001b[1;33m=\u001b[0m \u001b[0mjson\u001b[0m\u001b[1;33m.\u001b[0m\u001b[0mloads\u001b[0m\u001b[1;33m(\u001b[0m\u001b[0mresult_string\u001b[0m\u001b[1;33m)\u001b[0m\u001b[1;33m\u001b[0m\u001b[0m\n\u001b[0m",
      "\u001b[1;32mC:\\Python27\\lib\\json\\__init__.pyc\u001b[0m in \u001b[0;36mloads\u001b[1;34m(s, encoding, cls, object_hook, parse_float, parse_int, parse_constant, object_pairs_hook, **kw)\u001b[0m\n\u001b[0;32m    308\u001b[0m             \u001b[0mparse_int\u001b[0m \u001b[1;32mis\u001b[0m \u001b[0mNone\u001b[0m \u001b[1;32mand\u001b[0m \u001b[0mparse_float\u001b[0m \u001b[1;32mis\u001b[0m \u001b[0mNone\u001b[0m \u001b[1;32mand\u001b[0m\u001b[1;33m\u001b[0m\u001b[0m\n\u001b[0;32m    309\u001b[0m             parse_constant is None and object_pairs_hook is None and not kw):\n\u001b[1;32m--> 310\u001b[1;33m         \u001b[1;32mreturn\u001b[0m \u001b[0m_default_decoder\u001b[0m\u001b[1;33m.\u001b[0m\u001b[0mdecode\u001b[0m\u001b[1;33m(\u001b[0m\u001b[0ms\u001b[0m\u001b[1;33m)\u001b[0m\u001b[1;33m\u001b[0m\u001b[0m\n\u001b[0m\u001b[0;32m    311\u001b[0m     \u001b[1;32mif\u001b[0m \u001b[0mcls\u001b[0m \u001b[1;32mis\u001b[0m \u001b[0mNone\u001b[0m\u001b[1;33m:\u001b[0m\u001b[1;33m\u001b[0m\u001b[0m\n\u001b[0;32m    312\u001b[0m         \u001b[0mcls\u001b[0m \u001b[1;33m=\u001b[0m \u001b[0mJSONDecoder\u001b[0m\u001b[1;33m\u001b[0m\u001b[0m\n",
      "\u001b[1;32mC:\\Python27\\lib\\json\\decoder.pyc\u001b[0m in \u001b[0;36mdecode\u001b[1;34m(self, s, _w)\u001b[0m\n\u001b[0;32m    347\u001b[0m         \u001b[0mend\u001b[0m \u001b[1;33m=\u001b[0m \u001b[0m_w\u001b[0m\u001b[1;33m(\u001b[0m\u001b[0ms\u001b[0m\u001b[1;33m,\u001b[0m \u001b[0mend\u001b[0m\u001b[1;33m)\u001b[0m\u001b[1;33m.\u001b[0m\u001b[0mend\u001b[0m\u001b[1;33m(\u001b[0m\u001b[1;33m)\u001b[0m\u001b[1;33m\u001b[0m\u001b[0m\n\u001b[0;32m    348\u001b[0m         \u001b[1;32mif\u001b[0m \u001b[0mend\u001b[0m \u001b[1;33m!=\u001b[0m \u001b[0mlen\u001b[0m\u001b[1;33m(\u001b[0m\u001b[0ms\u001b[0m\u001b[1;33m)\u001b[0m\u001b[1;33m:\u001b[0m\u001b[1;33m\u001b[0m\u001b[0m\n\u001b[1;32m--> 349\u001b[1;33m             \u001b[1;32mraise\u001b[0m \u001b[0mValueError\u001b[0m\u001b[1;33m(\u001b[0m\u001b[0merrmsg\u001b[0m\u001b[1;33m(\u001b[0m\u001b[1;34m\"Extra data\"\u001b[0m\u001b[1;33m,\u001b[0m \u001b[0ms\u001b[0m\u001b[1;33m,\u001b[0m \u001b[0mend\u001b[0m\u001b[1;33m,\u001b[0m \u001b[0mlen\u001b[0m\u001b[1;33m(\u001b[0m\u001b[0ms\u001b[0m\u001b[1;33m)\u001b[0m\u001b[1;33m)\u001b[0m\u001b[1;33m)\u001b[0m\u001b[1;33m\u001b[0m\u001b[0m\n\u001b[0m\u001b[0;32m    350\u001b[0m         \u001b[1;32mreturn\u001b[0m \u001b[0mobj\u001b[0m\u001b[1;33m\u001b[0m\u001b[0m\n\u001b[0;32m    351\u001b[0m \u001b[1;33m\u001b[0m\u001b[0m\n",
      "\u001b[1;31mValueError\u001b[0m: Extra data: line 2 column 1 - line 2001 column 1 (char 1386 - 3912677)"
     ]
    }
   ],
   "source": [
    "string_json = json.loads(result_string)"
   ]
  },
  {
   "cell_type": "code",
   "execution_count": 103,
   "metadata": {},
   "outputs": [],
   "source": [
    "yj = yaml.safe_load(result_dumps)"
   ]
  },
  {
   "cell_type": "code",
   "execution_count": 105,
   "metadata": {},
   "outputs": [
    {
     "data": {
      "text/plain": [
       "u'{'"
      ]
     },
     "execution_count": 105,
     "metadata": {},
     "output_type": "execute_result"
    }
   ],
   "source": [
    "yj[0]"
   ]
  },
  {
   "cell_type": "code",
   "execution_count": 91,
   "metadata": {},
   "outputs": [
    {
     "ename": "NameError",
     "evalue": "name 'string' is not defined",
     "output_type": "error",
     "traceback": [
      "\u001b[1;31m---------------------------------------------------------------------------\u001b[0m",
      "\u001b[1;31mNameError\u001b[0m                                 Traceback (most recent call last)",
      "\u001b[1;32m<ipython-input-91-63d7e600b0db>\u001b[0m in \u001b[0;36m<module>\u001b[1;34m()\u001b[0m\n\u001b[1;32m----> 1\u001b[1;33m \u001b[0mtmp\u001b[0m \u001b[1;33m=\u001b[0m \u001b[0mpd\u001b[0m\u001b[1;33m.\u001b[0m\u001b[0mread_json\u001b[0m\u001b[1;33m(\u001b[0m\u001b[0mstring\u001b[0m\u001b[1;33m(\u001b[0m\u001b[0mresult_text\u001b[0m\u001b[1;33m[\u001b[0m\u001b[1;34m'entities'\u001b[0m\u001b[1;33m]\u001b[0m\u001b[1;33m[\u001b[0m\u001b[1;36m0\u001b[0m\u001b[1;33m]\u001b[0m\u001b[1;33m)\u001b[0m\u001b[1;33m,\u001b[0m \u001b[0mlines\u001b[0m\u001b[1;33m=\u001b[0m\u001b[0mTrue\u001b[0m\u001b[1;33m,\u001b[0m \u001b[0mencoding\u001b[0m\u001b[1;33m=\u001b[0m\u001b[1;34m'utf-8'\u001b[0m\u001b[1;33m)\u001b[0m\u001b[1;33m\u001b[0m\u001b[0m\n\u001b[0m",
      "\u001b[1;31mNameError\u001b[0m: name 'string' is not defined"
     ]
    }
   ],
   "source": [
    "tmp = pd.read_json(result_text['entities'][0], lines=True, encoding='utf-8')"
   ]
  },
  {
   "cell_type": "code",
   "execution_count": 92,
   "metadata": {},
   "outputs": [
    {
     "data": {
      "text/plain": [
       "[{u'digest': u'\\uff0c\\u5176\\u4e2d\\uff0c\\u540c\\u4ec1\\u70ed\\u6c5e\\u8d2d\\u7269\\u4e2d\\u5fc3\\u4ea7\\u54c1\\u62bd\\u68c0\\u5408\\u683c',\n",
       "  u'eventLevel': u'\\u6b63\\u5411',\n",
       "  u'keywords': u'',\n",
       "  u'name': u'\\u540c\\u4ec1\\u70ed\\u6c5e\\u8d2d\\u7269\\u4e2d\\u5fc3'},\n",
       " {u'digest': u'\\uff0c\\u5176\\u4e2d\\uff0c\\u6cfd\\u5e93\\u4e07\\u5bb6\\u4e50\\u8d85\\u5e02\\u4ea7\\u54c1\\u62bd\\u68c0\\u5408\\u683c',\n",
       "  u'eventLevel': u'\\u6b63\\u5411',\n",
       "  u'keywords': u'',\n",
       "  u'name': u'\\u6cfd\\u5e93\\u4e07\\u5bb6\\u4e50\\u8d85\\u5e02'},\n",
       " {u'digest': u'??\\u62bd\\u68c0\\u51fa\\u76842\\u6279\\u6b21\\u4e0d\\u5408\\u7684\\u519c\\u4ea7\\u54c1\\u662f\\uff0c\\u4f5b\\u5c71\\u5e02\\u9ad8\\u660e\\u533a\\u8377\\u57ce\\u82cf\\u7389\\u840d\\u852c\\u83dc\\u6863\\u9500\\u552e\\u7684\\u82b9\\u83dc\\uff0c\\u4e0d\\u5408\\u683c\\u9879\\u76ee\\u4e3a\\u6bd2\\u6b7b\\u8731\\uff0c\\u53e6\\u4e00\\u6279\\u6b21\\u662f\\u9ec4\\u7389\\u534e\\u9500\\u552e\\u7684\\u9cae\\u9c7c\\uff0c\\u4e0d\\u5408\\u683c\\u9879\\u76ee\\u4e3a\\u5b54\\u96c0\\u77f3\\u7eff\\u3002',\n",
       "  u'eventLevel': u'\\u8d1f\\u5411',\n",
       "  u'keywords': u'',\n",
       "  u'name': u'\\u8377\\u57ce\\u82cf\\u7389\\u840d\\u852c\\u83dc\\u6863'},\n",
       " {u'digest': u'\\uff0c\\u5176\\u4e2d\\uff0c\\u95e8\\u6e90\\u53bf\\u534e\\u4e1c\\u8d2d\\u7269\\u4e2d\\u5fc3\\u6709\\u9650\\u516c\\u53f8\\u4ea7\\u54c1\\u62bd\\u68c0\\u5408\\u683c',\n",
       "  u'eventLevel': u'\\u6b63\\u5411',\n",
       "  u'keywords': u'',\n",
       "  u'name': u'\\u95e8\\u6e90\\u53bf\\u534e\\u4e1c\\u8d2d\\u7269\\u4e2d\\u5fc3\\u6709\\u9650\\u516c\\u53f8'},\n",
       " {u'digest': u'\\u4e2d\\u56fd\\u8d28\\u91cf\\u65b0\\u95fb\\u7f51\\u8baf 8\\u670825\\u65e5\\uff0c\\u9752\\u6d77\\u7701\\u98df\\u54c1\\u836f\\u54c1\\u76d1\\u7763\\u7ba1\\u7406\\u5c40\\u5b98\\u7f51\\u53d1\\u5e03\\u300a\\u98df\\u54c1\\u5b89\\u5168\\u76d1\\u7763\\u62bd\\u68c0\\u4fe1\\u606f\\u901a\\u544a 2017\\u5e74 \\u7b2c 28 \\u53f7\\u300b\\u3002\\u4fe1\\u606f\\u663e\\u793a\\uff0c\\u8be5\\u5c40\\u8fd1\\u671f\\u5c40\\u627f\\u62c5\\u56fd\\u5bb6\\u98df\\u54c1\\u836f\\u54c1\\u76d1\\u7763\\u7ba1\\u7406\\u603b\\u5c40\\u4e2d\\u592e\\u8f6c\\u79fb\\u5730\\u65b9\\u4efb\\u52a1\\uff0c\\u7ec4\\u7ec7\\u62bd\\u68c0\\u4e8622\\u7c7b\\u98df\\u54c1136\\u6279\\u6b21\\u6837\\u54c1\\u3002\\u5176\\u4e2d\\uff0c\\u62bd\\u68c0\\u6c34\\u679c\\u5236\\u54c15\\u6279\\u6b21\\uff0c\\u5168\\u90e8\\u5408\\u683c\\u3002',\n",
       "  u'eventLevel': u'\\u4e2d\\u6027',\n",
       "  u'keywords': u'',\n",
       "  u'name': u'\\u9752\\u6d77\\u7701\\u98df\\u836f\\u76d1\\u5c40'},\n",
       " {u'digest': u'\\uff0c\\u5176\\u4e2d\\uff0c\\u9ec4\\u5357\\u4e16\\u7eaa\\u534e\\u8054\\u5546\\u8d38\\u6709\\u9650\\u516c\\u53f8\\u4ea7\\u54c1\\u62bd\\u68c0\\u5408\\u683c',\n",
       "  u'eventLevel': u'\\u6b63\\u5411',\n",
       "  u'keywords': u'',\n",
       "  u'name': u'\\u9ec4\\u5357\\u4e16\\u7eaa\\u534e\\u8054\\u5546\\u8d38\\u6709\\u9650\\u516c\\u53f8'}]"
      ]
     },
     "execution_count": 92,
     "metadata": {},
     "output_type": "execute_result"
    }
   ],
   "source": [
    "result_text['entities'][0]"
   ]
  },
  {
   "cell_type": "code",
   "execution_count": 57,
   "metadata": {},
   "outputs": [
    {
     "name": "stdout",
     "output_type": "stream",
     "text": [
      "                                                   0\n",
      "0  {\"newsId\":\"82ca95bff6cbef092d4da7e8fceb1c38e92...\n"
     ]
    }
   ],
   "source": []
  },
  {
   "cell_type": "code",
   "execution_count": 35,
   "metadata": {},
   "outputs": [],
   "source": [
    "import json\n",
    "a = json.dumps(rjson)"
   ]
  },
  {
   "cell_type": "code",
   "execution_count": 44,
   "metadata": {},
   "outputs": [
    {
     "name": "stdout",
     "output_type": "stream",
     "text": [
      "{u'eventLevel': u'\\u6b63\\u5411', u'keywords': u'', u'name': u'\\u540c\\u4ec1\\u70ed\\u6c5e\\u8d2d\\u7269\\u4e2d\\u5fc3', u'digest': u'\\uff0c\\u5176\\u4e2d\\uff0c\\u540c\\u4ec1\\u70ed\\u6c5e\\u8d2d\\u7269\\u4e2d\\u5fc3\\u4ea7\\u54c1\\u62bd\\u68c0\\u5408\\u683c'}\n",
      "{u'eventLevel': u'\\u6b63\\u5411', u'keywords': u'', u'name': u'\\u6cfd\\u5e93\\u4e07\\u5bb6\\u4e50\\u8d85\\u5e02', u'digest': u'\\uff0c\\u5176\\u4e2d\\uff0c\\u6cfd\\u5e93\\u4e07\\u5bb6\\u4e50\\u8d85\\u5e02\\u4ea7\\u54c1\\u62bd\\u68c0\\u5408\\u683c'}\n",
      "{u'eventLevel': u'\\u8d1f\\u5411', u'keywords': u'', u'name': u'\\u8377\\u57ce\\u82cf\\u7389\\u840d\\u852c\\u83dc\\u6863', u'digest': u'??\\u62bd\\u68c0\\u51fa\\u76842\\u6279\\u6b21\\u4e0d\\u5408\\u7684\\u519c\\u4ea7\\u54c1\\u662f\\uff0c\\u4f5b\\u5c71\\u5e02\\u9ad8\\u660e\\u533a\\u8377\\u57ce\\u82cf\\u7389\\u840d\\u852c\\u83dc\\u6863\\u9500\\u552e\\u7684\\u82b9\\u83dc\\uff0c\\u4e0d\\u5408\\u683c\\u9879\\u76ee\\u4e3a\\u6bd2\\u6b7b\\u8731\\uff0c\\u53e6\\u4e00\\u6279\\u6b21\\u662f\\u9ec4\\u7389\\u534e\\u9500\\u552e\\u7684\\u9cae\\u9c7c\\uff0c\\u4e0d\\u5408\\u683c\\u9879\\u76ee\\u4e3a\\u5b54\\u96c0\\u77f3\\u7eff\\u3002'}\n",
      "{u'eventLevel': u'\\u6b63\\u5411', u'keywords': u'', u'name': u'\\u95e8\\u6e90\\u53bf\\u534e\\u4e1c\\u8d2d\\u7269\\u4e2d\\u5fc3\\u6709\\u9650\\u516c\\u53f8', u'digest': u'\\uff0c\\u5176\\u4e2d\\uff0c\\u95e8\\u6e90\\u53bf\\u534e\\u4e1c\\u8d2d\\u7269\\u4e2d\\u5fc3\\u6709\\u9650\\u516c\\u53f8\\u4ea7\\u54c1\\u62bd\\u68c0\\u5408\\u683c'}\n",
      "{u'eventLevel': u'\\u4e2d\\u6027', u'keywords': u'', u'name': u'\\u9752\\u6d77\\u7701\\u98df\\u836f\\u76d1\\u5c40', u'digest': u'\\u4e2d\\u56fd\\u8d28\\u91cf\\u65b0\\u95fb\\u7f51\\u8baf 8\\u670825\\u65e5\\uff0c\\u9752\\u6d77\\u7701\\u98df\\u54c1\\u836f\\u54c1\\u76d1\\u7763\\u7ba1\\u7406\\u5c40\\u5b98\\u7f51\\u53d1\\u5e03\\u300a\\u98df\\u54c1\\u5b89\\u5168\\u76d1\\u7763\\u62bd\\u68c0\\u4fe1\\u606f\\u901a\\u544a 2017\\u5e74 \\u7b2c 28 \\u53f7\\u300b\\u3002\\u4fe1\\u606f\\u663e\\u793a\\uff0c\\u8be5\\u5c40\\u8fd1\\u671f\\u5c40\\u627f\\u62c5\\u56fd\\u5bb6\\u98df\\u54c1\\u836f\\u54c1\\u76d1\\u7763\\u7ba1\\u7406\\u603b\\u5c40\\u4e2d\\u592e\\u8f6c\\u79fb\\u5730\\u65b9\\u4efb\\u52a1\\uff0c\\u7ec4\\u7ec7\\u62bd\\u68c0\\u4e8622\\u7c7b\\u98df\\u54c1136\\u6279\\u6b21\\u6837\\u54c1\\u3002\\u5176\\u4e2d\\uff0c\\u62bd\\u68c0\\u6c34\\u679c\\u5236\\u54c15\\u6279\\u6b21\\uff0c\\u5168\\u90e8\\u5408\\u683c\\u3002'}\n",
      "{u'eventLevel': u'\\u6b63\\u5411', u'keywords': u'', u'name': u'\\u9ec4\\u5357\\u4e16\\u7eaa\\u534e\\u8054\\u5546\\u8d38\\u6709\\u9650\\u516c\\u53f8', u'digest': u'\\uff0c\\u5176\\u4e2d\\uff0c\\u9ec4\\u5357\\u4e16\\u7eaa\\u534e\\u8054\\u5546\\u8d38\\u6709\\u9650\\u516c\\u53f8\\u4ea7\\u54c1\\u62bd\\u68c0\\u5408\\u683c'}\n"
     ]
    }
   ],
   "source": [
    "for i in result_text['entities'][0]:\n",
    "    print i"
   ]
  },
  {
   "cell_type": "code",
   "execution_count": 58,
   "metadata": {},
   "outputs": [
    {
     "data": {
      "text/plain": [
       "{u'digest': u'\\uff0c\\u5176\\u4e2d\\uff0c\\u540c\\u4ec1\\u70ed\\u6c5e\\u8d2d\\u7269\\u4e2d\\u5fc3\\u4ea7\\u54c1\\u62bd\\u68c0\\u5408\\u683c',\n",
       " u'eventLevel': u'\\u6b63\\u5411',\n",
       " u'keywords': u'',\n",
       " u'name': u'\\u540c\\u4ec1\\u70ed\\u6c5e\\u8d2d\\u7269\\u4e2d\\u5fc3'}"
      ]
     },
     "execution_count": 58,
     "metadata": {},
     "output_type": "execute_result"
    }
   ],
   "source": [
    "result_text['entities'][0][0]"
   ]
  },
  {
   "cell_type": "code",
   "execution_count": 47,
   "metadata": {},
   "outputs": [
    {
     "ename": "AttributeError",
     "evalue": "'dict' object has no attribute 'read'",
     "output_type": "error",
     "traceback": [
      "\u001b[1;31m---------------------------------------------------------------------------\u001b[0m",
      "\u001b[1;31mAttributeError\u001b[0m                            Traceback (most recent call last)",
      "\u001b[1;32m<ipython-input-47-3d49921e34f6>\u001b[0m in \u001b[0;36m<module>\u001b[1;34m()\u001b[0m\n\u001b[1;32m----> 1\u001b[1;33m \u001b[0mtmpjson\u001b[0m \u001b[1;33m=\u001b[0m \u001b[0mjson\u001b[0m\u001b[1;33m.\u001b[0m\u001b[0mload\u001b[0m\u001b[1;33m(\u001b[0m\u001b[0mresult_text\u001b[0m\u001b[1;33m[\u001b[0m\u001b[1;34m'entities'\u001b[0m\u001b[1;33m]\u001b[0m\u001b[1;33m[\u001b[0m\u001b[1;36m0\u001b[0m\u001b[1;33m]\u001b[0m\u001b[1;33m[\u001b[0m\u001b[1;36m0\u001b[0m\u001b[1;33m]\u001b[0m\u001b[1;33m)\u001b[0m\u001b[1;33m\u001b[0m\u001b[0m\n\u001b[0m",
      "\u001b[1;32mC:\\Python27\\lib\\json\\__init__.pyc\u001b[0m in \u001b[0;36mload\u001b[1;34m(fp, encoding, cls, object_hook, parse_float, parse_int, parse_constant, object_pairs_hook, **kw)\u001b[0m\n\u001b[0;32m    264\u001b[0m \u001b[1;33m\u001b[0m\u001b[0m\n\u001b[0;32m    265\u001b[0m     \"\"\"\n\u001b[1;32m--> 266\u001b[1;33m     return loads(fp.read(),\n\u001b[0m\u001b[0;32m    267\u001b[0m         \u001b[0mencoding\u001b[0m\u001b[1;33m=\u001b[0m\u001b[0mencoding\u001b[0m\u001b[1;33m,\u001b[0m \u001b[0mcls\u001b[0m\u001b[1;33m=\u001b[0m\u001b[0mcls\u001b[0m\u001b[1;33m,\u001b[0m \u001b[0mobject_hook\u001b[0m\u001b[1;33m=\u001b[0m\u001b[0mobject_hook\u001b[0m\u001b[1;33m,\u001b[0m\u001b[1;33m\u001b[0m\u001b[0m\n\u001b[0;32m    268\u001b[0m         \u001b[0mparse_float\u001b[0m\u001b[1;33m=\u001b[0m\u001b[0mparse_float\u001b[0m\u001b[1;33m,\u001b[0m \u001b[0mparse_int\u001b[0m\u001b[1;33m=\u001b[0m\u001b[0mparse_int\u001b[0m\u001b[1;33m,\u001b[0m\u001b[1;33m\u001b[0m\u001b[0m\n",
      "\u001b[1;31mAttributeError\u001b[0m: 'dict' object has no attribute 'read'"
     ]
    }
   ],
   "source": [
    "tmpjson = json.load(result_text['entities'][0][0])"
   ]
  },
  {
   "cell_type": "code",
   "execution_count": 93,
   "metadata": {},
   "outputs": [
    {
     "name": "stdout",
     "output_type": "stream",
     "text": [
      "<type 'str'> {\"a\": 123, \"c\": 456, \"b\": 789}\n",
      "<type 'dict'>\n",
      "123\n",
      "{'a': 123, 'c': 456, 'b': 789}\n"
     ]
    }
   ],
   "source": [
    "data1 = {'b': 789, 'c': 456, 'a': 123}\n",
    "encode_json = json.dumps(data1)\n",
    "print type(encode_json), encode_json\n",
    "\n",
    "decode_json = json.loads(encode_json)\n",
    "print type(decode_json)\n",
    "print decode_json['a']\n",
    "print decode_json"
   ]
  },
  {
   "cell_type": "code",
   "execution_count": 98,
   "metadata": {},
   "outputs": [
    {
     "data": {
      "text/plain": [
       "'{\"a\": 123, \"c\": 456, \"b\": 789}'"
      ]
     },
     "execution_count": 98,
     "metadata": {},
     "output_type": "execute_result"
    }
   ],
   "source": [
    "encode_json"
   ]
  },
  {
   "cell_type": "code",
   "execution_count": 74,
   "metadata": {},
   "outputs": [],
   "source": [
    "retv = json.dumps(d1)\n",
    "js_retv = json.loads(result_json)"
   ]
  },
  {
   "cell_type": "code",
   "execution_count": 72,
   "metadata": {},
   "outputs": [
    {
     "data": {
      "text/plain": [
       "'v1'"
      ]
     },
     "execution_count": 72,
     "metadata": {},
     "output_type": "execute_result"
    }
   ],
   "source": [
    "js_retv['k1']"
   ]
  }
 ],
 "metadata": {
  "kernelspec": {
   "display_name": "Python 2",
   "language": "python",
   "name": "python2"
  },
  "language_info": {
   "codemirror_mode": {
    "name": "ipython",
    "version": 2
   },
   "file_extension": ".py",
   "mimetype": "text/x-python",
   "name": "python",
   "nbconvert_exporter": "python",
   "pygments_lexer": "ipython2",
   "version": "2.7"
  },
  "toc": {
   "nav_menu": {},
   "number_sections": true,
   "sideBar": true,
   "skip_h1_title": false,
   "toc_cell": true,
   "toc_position": {
    "height": "526px",
    "left": "0px",
    "right": "1222px",
    "top": "110px",
    "width": "144px"
   },
   "toc_section_display": "block",
   "toc_window_display": true
  }
 },
 "nbformat": 4,
 "nbformat_minor": 1
}
